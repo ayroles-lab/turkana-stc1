{
 "cells": [
  {
   "cell_type": "markdown",
   "id": "c32f389a-166a-43c7-98a5-e91fe3101e56",
   "metadata": {},
   "outputs": [],
   "source": [
    "### Sites of interest"
   ]
  },
  {
   "cell_type": "code",
   "execution_count": 2,
   "id": "62664c51",
   "metadata": {},
   "outputs": [],
   "source": [
    "import numpy as np\n",
    "import pandas as pd"
   ]
  },
  {
   "cell_type": "code",
   "execution_count": 3,
   "id": "c5c8e93d",
   "metadata": {},
   "outputs": [],
   "source": [
    "info = pd.read_csv(snakemake.input[\"arg_info\"], sep=';')[['pos_of_snp', 'tree_index', 'is_not_mapping']]\n",
    "\n",
    "# Take only sites that map uniquely to a branch in the ARG\n",
    "info = info.loc[info.is_not_mapping == 0] "
   ]
  },
  {
   "cell_type": "code",
   "execution_count": 4,
   "id": "3d3d0567",
   "metadata": {},
   "outputs": [],
   "source": [
    "# If we wanted to do every site:\n",
    "# of_interest = info\n",
    "\n",
    "# If we wanted to do one site chosen at random per ARG tree, we'd run:\n",
    "# of_interest = info.groupby('tree_index').sample(1)\n",
    "\n",
    "# If we wanted to do only the middlest k sites:\n",
    "k = 10\n",
    "pos = info.pos_of_snp\n",
    "x = (len(pos) - 10)//2\n",
    "of_interest = info.loc[np.isin(info.pos_of_snp, pos.values[x:(x + 10)])]"
   ]
  },
  {
   "cell_type": "code",
   "execution_count": 5,
   "id": "11038907",
   "metadata": {},
   "outputs": [],
   "source": [
    "with open(snakemake.output['sites_of_interest'], \"w\") as f:\n",
    "    f.write('\\n'.join(str(i) for i in of_interest.pos_of_snp))"
   ]
  },
  {
   "cell_type": "code",
   "execution_count": null,
   "id": "34d7f41d",
   "metadata": {},
   "outputs": [],
   "source": []
  }
 ],
 "metadata": {
  "kernelspec": {
   "display_name": "Python 3 (ipykernel)",
   "language": "python",
   "name": "python3"
  },
  "language_info": {
   "codemirror_mode": {
    "name": "ipython",
    "version": 3
   },
   "file_extension": ".py",
   "mimetype": "text/x-python",
   "name": "python",
   "nbconvert_exporter": "python",
   "pygments_lexer": "ipython3",
   "version": "3.9.10"
  }
 },
 "nbformat": 4,
 "nbformat_minor": 5
}
