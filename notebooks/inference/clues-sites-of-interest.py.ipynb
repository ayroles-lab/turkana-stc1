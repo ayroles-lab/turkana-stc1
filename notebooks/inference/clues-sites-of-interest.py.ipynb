{
 "cells": [
  {
   "cell_type": "markdown",
   "id": "c32f389a-166a-43c7-98a5-e91fe3101e56",
   "metadata": {},
   "outputs": [],
   "source": [
    "### Sites of interest"
   ]
  },
  {
   "cell_type": "code",
   "execution_count": 2,
   "id": "62664c51",
   "metadata": {},
   "outputs": [],
   "source": [
    "import pandas as pd"
   ]
  },
  {
   "cell_type": "code",
   "execution_count": 6,
   "id": "c5c8e93d",
   "metadata": {},
   "outputs": [],
   "source": [
    "info = pd.read_csv(snakemake.input[\"arg_info\"], sep=';')[['pos_of_snp', 'tree_index', 'is_not_mapping']]"
   ]
  },
  {
   "cell_type": "markdown",
   "id": "8ceda6c6",
   "metadata": {},
   "outputs": [],
   "source": [
    "We will take every site with a mutation that could be mapped uniquely to a branch, then take one (random) site per different tree in the ARG."
   ]
  },
  {
   "cell_type": "code",
   "execution_count": 11,
   "id": "3d3d0567",
   "metadata": {},
   "outputs": [],
   "source": [
    "one_site_per_tree = info.loc[info.is_not_mapping == 0].groupby('tree_index').sample(1)"
   ]
  },
  {
   "cell_type": "code",
   "execution_count": 12,
   "id": "11038907",
   "metadata": {},
   "outputs": [],
   "source": [
    "with open(snakemake.output['sites_of_interest'], \"w\") as f:\n",
    "    f.write('\\n'.join(str(i) for i in one_site_per_tree.pos_of_snp))"
   ]
  },
  {
   "cell_type": "code",
   "execution_count": null,
   "id": "34d7f41d",
   "metadata": {},
   "outputs": [],
   "source": []
  }
 ],
 "metadata": {
  "kernelspec": {
   "display_name": "Python 3 (ipykernel)",
   "language": "python",
   "name": "python3"
  },
  "language_info": {
   "codemirror_mode": {
    "name": "ipython",
    "version": 3
   },
   "file_extension": ".py",
   "mimetype": "text/x-python",
   "name": "python",
   "nbconvert_exporter": "python",
   "pygments_lexer": "ipython3",
   "version": "3.9.10"
  }
 },
 "nbformat": 4,
 "nbformat_minor": 5
}
