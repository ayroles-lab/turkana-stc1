{
 "cells": [
  {
   "cell_type": "markdown",
   "id": "c32f389a-166a-43c7-98a5-e91fe3101e56",
   "metadata": {},
   "source": [
    "### Sites of interest"
   ]
  },
  {
   "cell_type": "code",
   "execution_count": 2,
   "id": "62664c51",
   "metadata": {},
   "outputs": [],
   "source": [
    "import numpy as np\n",
    "import pandas as pd"
   ]
  },
  {
   "cell_type": "code",
   "execution_count": 3,
   "id": "c5c8e93d",
   "metadata": {},
   "outputs": [],
   "source": [
    "info = pd.read_csv(snakemake.input[\"arg_info\"], sep=';')[['pos_of_snp', 'tree_index', 'is_not_mapping']]\n",
    "\n",
    "# Take only sites that map uniquely to a branch in the ARG\n",
    "info = info.loc[info.is_not_mapping == 0] "
   ]
  },
  {
   "cell_type": "code",
   "execution_count": 1,
   "id": "3d3d0567",
   "metadata": {},
   "outputs": [
    {
     "ename": "SyntaxError",
     "evalue": "invalid syntax (<ipython-input-1-a9697fa64a81>, line 8)",
     "output_type": "error",
     "traceback": [
      "\u001b[0;36m  File \u001b[0;32m\"<ipython-input-1-a9697fa64a81>\"\u001b[0;36m, line \u001b[0;32m8\u001b[0m\n\u001b[0;31m    k = snakemake.params[]\u001b[0m\n\u001b[0m                         ^\u001b[0m\n\u001b[0;31mSyntaxError\u001b[0m\u001b[0;31m:\u001b[0m invalid syntax\n"
     ]
    }
   ],
   "source": [
    "# If we wanted to do every site:\n",
    "# of_interest = info\n",
    "\n",
    "# If we wanted to do one site chosen at random per ARG tree, we'd run:\n",
    "# of_interest = info.groupby('tree_index').sample(1)\n",
    "\n",
    "# If we wanted to do only the middlest k sites:\n",
    "k = snakemake.params[\"num_sites\"]\n",
    "pos = info.pos_of_snp\n",
    "x = (len(pos) - k)//2\n",
    "of_interest = info.loc[np.isin(info.pos_of_snp, pos.values[x:(x + k)])]"
   ]
  },
  {
   "cell_type": "code",
   "execution_count": 5,
   "id": "11038907",
   "metadata": {},
   "outputs": [],
   "source": [
    "with open(snakemake.output['sites_of_interest'], \"w\") as f:\n",
    "    f.write('\\n'.join(str(i) for i in of_interest.pos_of_snp))"
   ]
  },
  {
   "cell_type": "code",
   "execution_count": null,
   "id": "34d7f41d",
   "metadata": {},
   "outputs": [],
   "source": []
  }
 ],
 "metadata": {
  "kernelspec": {
   "display_name": "Python 3",
   "language": "python",
   "name": "python3"
  },
  "language_info": {
   "codemirror_mode": {
    "name": "ipython",
    "version": 3
   },
   "file_extension": ".py",
   "mimetype": "text/x-python",
   "name": "python",
   "nbconvert_exporter": "python",
   "pygments_lexer": "ipython3",
   "version": "3.9.5"
  }
 },
 "nbformat": 4,
 "nbformat_minor": 5
}
