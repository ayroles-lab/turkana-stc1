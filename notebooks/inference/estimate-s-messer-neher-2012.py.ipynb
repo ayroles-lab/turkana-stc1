{
 "cells": [
  {
   "cell_type": "markdown",
   "id": "db5bb284",
   "metadata": {},
   "outputs": [],
   "source": [
    "# Inferring selection strength\n",
    "\n",
    "Using the method of [Messer & Neher (2012)](https://doi.org/10.1534/genetics.112.138461)."
   ]
  },
  {
   "cell_type": "markdown",
   "id": "3dc3dde3",
   "metadata": {},
   "outputs": [],
   "source": [
    "## Window size"
   ]
  },
  {
   "cell_type": "markdown",
   "id": "9064a5ad",
   "metadata": {},
   "outputs": [],
   "source": [
    "To run this selection inference method, we need to have a window size such that $s \\gg L(\\mu + r)$."
   ]
  },
  {
   "cell_type": "code",
   "execution_count": 6,
   "id": "276b3263",
   "metadata": {},
   "outputs": [],
   "source": [
    "mut_rate = snakemake.params[\"mut_rate\"]\n",
    "rec_rate = snakemake.params[\"rec_rate\"]"
   ]
  },
  {
   "cell_type": "code",
   "execution_count": 7,
   "id": "ea105003",
   "metadata": {},
   "outputs": [],
   "source": [
    "for winsize in [1e3, 1e4, 1e5, 1e6]:\n",
    "    print(winsize*(mut_rate + rec_rate))"
   ]
  },
  {
   "cell_type": "markdown",
   "id": "b5bd6845",
   "metadata": {},
   "outputs": [],
   "source": [
    "I can be very conservative and take windows of 1kb, that way $s \\gg 2.166 \\cdot 10^{-5}$."
   ]
  },
  {
   "cell_type": "markdown",
   "id": "574cc6f8",
   "metadata": {},
   "outputs": [],
   "source": [
    "## Load and subset empirical data"
   ]
  },
  {
   "cell_type": "code",
   "execution_count": 11,
   "id": "68821129",
   "metadata": {},
   "outputs": [],
   "source": [
    "from utils.conversion import vcftools_to_ms, ms_to_numpy"
   ]
  },
  {
   "cell_type": "code",
   "execution_count": 10,
   "id": "31dd8a43",
   "metadata": {},
   "outputs": [],
   "source": [
    "vcftools_to_ms(snakemake.input[\"sweep_012\"], snakemake.output[\"ms_file\"], pos_file=snakemake.input[\"sweep_012_pos\"])"
   ]
  },
  {
   "cell_type": "code",
   "execution_count": 14,
   "id": "2318411a",
   "metadata": {},
   "outputs": [],
   "source": [
    "with open(snakemake.output[\"ms_file\"]) as f:\n",
    "    positions, haplotypes = ms_to_numpy(f)"
   ]
  },
  {
   "cell_type": "code",
   "execution_count": 18,
   "id": "7d06de3d",
   "metadata": {},
   "outputs": [],
   "source": [
    "haplotypes.shape"
   ]
  },
  {
   "cell_type": "code",
   "execution_count": 19,
   "id": "51765afb",
   "metadata": {},
   "outputs": [],
   "source": [
    "vcftools_to_ms??"
   ]
  },
  {
   "cell_type": "markdown",
   "id": "07e91913",
   "metadata": {},
   "outputs": [],
   "source": [
    "## Save this notebook as output"
   ]
  },
  {
   "cell_type": "markdown",
   "id": "3ad7e634",
   "metadata": {},
   "outputs": [],
   "source": [
    "https://nbconvert.readthedocs.io/en/latest/usage.html#convert-ascii"
   ]
  },
  {
   "cell_type": "code",
   "execution_count": null,
   "id": "44166d24",
   "metadata": {},
   "outputs": [],
   "source": []
  }
 ],
 "metadata": {
  "kernelspec": {
   "display_name": "Python 3 (ipykernel)",
   "language": "python",
   "name": "python3"
  },
  "language_info": {
   "codemirror_mode": {
    "name": "ipython",
    "version": 3
   },
   "file_extension": ".py",
   "mimetype": "text/x-python",
   "name": "python",
   "nbconvert_exporter": "python",
   "pygments_lexer": "ipython3",
   "version": "3.9.9"
  }
 },
 "nbformat": 4,
 "nbformat_minor": 5
}
