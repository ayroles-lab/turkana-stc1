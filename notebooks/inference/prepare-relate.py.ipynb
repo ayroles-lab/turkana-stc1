{
 "cells": [
  {
   "cell_type": "code",
   "execution_count": 2,
   "id": "8f25acca",
   "metadata": {},
   "outputs": [],
   "source": [
    "import numpy as np\n",
    "import pandas as pd"
   ]
  },
  {
   "cell_type": "markdown",
   "id": "5ddcaa3d",
   "metadata": {},
   "outputs": [],
   "source": [
    "### Poplabels file"
   ]
  },
  {
   "cell_type": "code",
   "execution_count": 3,
   "id": "a7fa930a",
   "metadata": {},
   "outputs": [],
   "source": [
    "sample = pd.read_table(snakemake.input['sample']).iloc[1:]"
   ]
  },
  {
   "cell_type": "code",
   "execution_count": 4,
   "id": "ac778118",
   "metadata": {},
   "outputs": [],
   "source": [
    "poplabels = pd.DataFrame({\n",
    "    'sample': sample.ID_1,\n",
    "    'population': 'Turkana',\n",
    "    'group': 'Turkana',\n",
    "    'sex': 'NA'\n",
    "})"
   ]
  },
  {
   "cell_type": "code",
   "execution_count": 5,
   "id": "10421b4b",
   "metadata": {},
   "outputs": [],
   "source": [
    "poplabels.to_csv(snakemake.output['poplabels'], sep=' ', index=False)"
   ]
  },
  {
   "cell_type": "markdown",
   "id": "64992797",
   "metadata": {},
   "outputs": [],
   "source": [
    "### Repolarize\n",
    "\n",
    "So that the derived allele is the one at the highest frequency. We do this because we know our sweep to be at ~80% frequency, and we want to be able to narrow our analyses to that."
   ]
  },
  {
   "cell_type": "code",
   "execution_count": 6,
   "id": "a4467c54",
   "metadata": {
    "scrolled": true
   },
   "outputs": [],
   "source": [
    "with open(snakemake.output[\"repolarized\"], 'w') as out:\n",
    "    with open(snakemake.input[\"haps\"]) as haps:\n",
    "        for line in haps:\n",
    "            cols = line.strip().split()\n",
    "            chrom = cols[0]\n",
    "            snp_id = cols[1]\n",
    "            pos = int(cols[2])\n",
    "            allele_0 = cols[3]\n",
    "            allele_1 = cols[4]\n",
    "            haplotypes = np.array(cols[5:], dtype=np.uint16)\n",
    "            freq = sum(haplotypes)/len(haplotypes)\n",
    "            if freq < 0.5:\n",
    "                haplotypes = 1 - haplotypes\n",
    "            out.write(f\"{chrom} {snp_id} {pos} {allele_0} {allele_1} {' '.join(str(h) for h in haplotypes)}\" + '\\n')"
   ]
  },
  {
   "cell_type": "code",
   "execution_count": null,
   "id": "665f9121",
   "metadata": {},
   "outputs": [],
   "source": []
  }
 ],
 "metadata": {
  "kernelspec": {
   "display_name": "Python 3 (ipykernel)",
   "language": "python",
   "name": "python3"
  },
  "language_info": {
   "codemirror_mode": {
    "name": "ipython",
    "version": 3
   },
   "file_extension": ".py",
   "mimetype": "text/x-python",
   "name": "python",
   "nbconvert_exporter": "python",
   "pygments_lexer": "ipython3",
   "version": "3.9.10"
  }
 },
 "nbformat": 4,
 "nbformat_minor": 5
}
