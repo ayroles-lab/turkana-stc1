{
 "cells": [
  {
   "cell_type": "code",
   "execution_count": 6,
   "id": "ec928934-db50-4aad-9e03-1f8c44d6d5ff",
   "metadata": {},
   "outputs": [],
   "source": [
    "from utils.feature_calculation import calculate_features\n",
    "from utils.project_parameters import default_summary_statistics"
   ]
  },
  {
   "cell_type": "code",
   "execution_count": 22,
   "id": "9601ece7",
   "metadata": {},
   "outputs": [],
   "source": [
    "start = int(snakemake.config[\"sweep_region_start\"])\n",
    "end = int(snakemake.config[\"sweep_region_end\"])\n",
    "window_size = int(snakemake.params[\"window_size\"])\n",
    "window_step = int(snakemake.params[\"window_step\"])\n",
    "windows = []\n",
    "center = start + window_size//2\n",
    "while (center + window_size//2 < end):\n",
    "    windows.append(center)\n",
    "    center += window_step\n",
    "    \n",
    "window_sizes = [window_size]\n",
    "center_pos_dict = {window_size: windows}"
   ]
  },
  {
   "cell_type": "code",
   "execution_count": 24,
   "id": "3513bb84-d2ae-4d0f-a2cf-89a0c9b4d96e",
   "metadata": {},
   "outputs": [],
   "source": [
    "calculate_features(\n",
    "    ms_file=snakemake.input[\"ms\"],\n",
    "    summary_statistics=default_summary_statistics,\n",
    "    center_pos=center_pos_dict,\n",
    "    window_sizes=window_sizes,\n",
    "    output_file=snakemake.output[\"features\"],\n",
    "    output_stats=snakemake.output[\"stats\"],\n",
    ")"
   ]
  },
  {
   "cell_type": "code",
   "execution_count": null,
   "id": "1224a544-a87c-40c9-a426-403acd6478b3",
   "metadata": {},
   "outputs": [],
   "source": []
  }
 ],
 "metadata": {
  "kernelspec": {
   "display_name": "Python 3",
   "language": "python",
   "name": "python3"
  },
  "language_info": {
   "codemirror_mode": {
    "name": "ipython",
    "version": 3
   },
   "file_extension": ".py",
   "mimetype": "text/x-python",
   "name": "python",
   "nbconvert_exporter": "python",
   "pygments_lexer": "ipython3",
   "version": "3.9.5"
  }
 },
 "nbformat": 4,
 "nbformat_minor": 5
}
