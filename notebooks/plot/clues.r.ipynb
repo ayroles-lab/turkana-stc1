{
 "cells": [
  {
   "cell_type": "code",
   "execution_count": 2,
   "id": "c6a78a0b",
   "metadata": {},
   "outputs": [],
   "source": [
    "source(\"utils/plot.R\")"
   ]
  },
  {
   "cell_type": "code",
   "execution_count": 3,
   "id": "da9ff0e7",
   "metadata": {},
   "outputs": [],
   "source": [
    "data <- read_tsv(snakemake@input[[\"clues\"]], col_types=cols(locus=col_integer())) %>%\n",
    "    mutate(\n",
    "        locus_str = paste0('Pos. ', scales::comma(locus))\n",
    "    ) # %>%\n",
    "    # filter(log_prob > quantile(log_prob, 0.75))"
   ]
  },
  {
   "cell_type": "code",
   "execution_count": 4,
   "id": "9224fd28",
   "metadata": {},
   "outputs": [],
   "source": [
    "region_limits <- c(\n",
    "    snakemake@config$sweep_region_start/1000,\n",
    "    snakemake@config$sweep_region_end/1000\n",
    ")\n",
    "\n",
    "selstrens = data %>%\n",
    "    group_by(locus) %>%\n",
    "    slice_sample(n=1) %>%\n",
    "    select(locus, s_estimate) %>%\n",
    "    ungroup() %>%\n",
    "    filter(s_estimate < 0.197, s_estimate > 0)\n",
    "\n",
    "trees <- read_delim(snakemake@input[[\"arg_info\"]], delim=';', col_types=cols()) %>%\n",
    "    filter(is_not_mapping==0) %>%\n",
    "    select(pos_of_snp, tree_index) %>%\n",
    "    rename(locus=pos_of_snp)"
   ]
  },
  {
   "cell_type": "markdown",
   "id": "0ee79f03",
   "metadata": {},
   "outputs": [],
   "source": [
    "### CLUES results boxplot"
   ]
  },
  {
   "cell_type": "code",
   "execution_count": 5,
   "id": "d561f0a7",
   "metadata": {},
   "outputs": [],
   "source": [
    "results_fig <- ggplot(selstrens) +\n",
    "    geom_boxplot(aes(y=s_estimate)) +\n",
    "    xlim(-0.5, 1) +\n",
    "    ylim(0, 0.075) +\n",
    "    geom_text(aes(x=0.6, y=median(s_estimate), label=paste0('Median s = ', signif(median(s_estimate), 3)))) +\n",
    "    coord_flip() +\n",
    "    labs(title=paste0('CLUES estimates for the ', nrow(selstrens), ' middle sites')) +\n",
    "    turkana_theme +\n",
    "    turkana_colour +\n",
    "    theme(\n",
    "        legend.position='none',\n",
    "        axis.title.y = element_blank(),\n",
    "        axis.text.y = element_blank(),\n",
    "        axis.title.x = element_blank(),\n",
    "        panel.grid.major.y = element_blank()\n",
    "    )\n",
    "turkana_save(snakemake@output[[\"results\"]], results_fig, asp=2.5)"
   ]
  },
  {
   "cell_type": "markdown",
   "id": "a5161b9c",
   "metadata": {},
   "outputs": [],
   "source": [
    "### Individual site plots"
   ]
  },
  {
   "cell_type": "code",
   "execution_count": 6,
   "id": "46b323f0",
   "metadata": {},
   "outputs": [],
   "source": [
    "for (loc in unique(data$locus)) {\n",
    "    \n",
    "    this <- data %>% filter(locus==loc)\n",
    "    title <- paste0('Pos. ', scales::comma(loc), ' (tree ' ,filter(trees, locus==loc)$tree_index[[1]],  ')')\n",
    "    s <- this$s_estimate[[1]]\n",
    "    subtitle <- paste0('s = ', s)\n",
    "    \n",
    "    clues <- ggplot(this) +\n",
    "        geom_raster(aes(x=gen, y=freq, fill=exp(log_prob))) +\n",
    "        scale_x_reverse() +\n",
    "        labs(\n",
    "            title=title,\n",
    "            subtitle=subtitle,\n",
    "            x='Generations ago',\n",
    "            y='Allele freq.'\n",
    "        ) +\n",
    "        turkana_theme +\n",
    "        theme(\n",
    "            legend.position = 'none',\n",
    "            axis.text.x=element_text(angle=45, hjust=1),\n",
    "            plot.subtitle=element_text(size=10, face='italic')\n",
    "        )\n",
    "\n",
    "    turkana_save(\n",
    "        paste0(snakemake@params[[\"plot_dir\"]], \"/clues_\", loc, \".pdf\"),\n",
    "        clues, width=3, asp=1\n",
    "    )\n",
    "    \n",
    "}"
   ]
  },
  {
   "cell_type": "markdown",
   "id": "d370144b",
   "metadata": {},
   "outputs": [],
   "source": [
    "### Multi-panel with multiple sites for the paper"
   ]
  },
  {
   "cell_type": "code",
   "execution_count": 89,
   "id": "a3b2a950",
   "metadata": {},
   "outputs": [],
   "source": [
    "panels_data <- data %>%\n",
    "    filter(s_estimate < 0.197, s_estimate > 0) %>%\n",
    "    mutate(\n",
    "        caption_str = paste0('Pos. ', scales::comma(locus), '\\n', 's = ', s_estimate)\n",
    "    )\n",
    "\n",
    "s_estimates <- panels_data %>%\n",
    "    distinct(locus, s_estimate)"
   ]
  },
  {
   "cell_type": "code",
   "execution_count": 94,
   "id": "b8fafc5c",
   "metadata": {},
   "outputs": [],
   "source": [
    "fig <- ggplot(panels_data) +\n",
    "        geom_raster(aes(x=gen, y=freq, fill=exp(log_prob))) +\n",
    "        facet_wrap(vars(paste0('Pos. ', scales::label_comma(drop0trailing=TRUE)(locus)))) +\n",
    "        geom_text(data=s_estimates, aes(x=280, y=1.0, label=paste0('s = ', signif(s_estimate, 3))),\n",
    "                  colour='white', hjust=0, vjust=1\n",
    "                 ) +\n",
    "        scale_x_reverse() +\n",
    "        labs(\n",
    "            x='Generations ago',\n",
    "            y='Allele freq.'\n",
    "        ) +\n",
    "        turkana_theme +\n",
    "        theme(\n",
    "            legend.position = 'none',\n",
    "            axis.text.x=element_text(angle=45, hjust=1),\n",
    "            plot.subtitle=element_text(size=10, face='italic'),\n",
    "            panel.grid=element_blank()\n",
    "        )\n",
    "\n",
    "turkana_save(\"fig/paper/clues.pdf\", fig, width=6, asp=1)"
   ]
  },
  {
   "cell_type": "code",
   "execution_count": null,
   "id": "2879b572",
   "metadata": {},
   "outputs": [],
   "source": []
  }
 ],
 "metadata": {
  "kernelspec": {
   "display_name": "R",
   "language": "R",
   "name": "ir"
  },
  "language_info": {
   "codemirror_mode": "r",
   "file_extension": ".r",
   "mimetype": "text/x-r-source",
   "name": "R",
   "pygments_lexer": "r",
   "version": "4.1.0"
  }
 },
 "nbformat": 4,
 "nbformat_minor": 5
}
