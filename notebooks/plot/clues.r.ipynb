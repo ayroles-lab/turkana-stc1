{
 "cells": [
  {
   "cell_type": "code",
   "execution_count": 2,
   "id": "c6a78a0b",
   "metadata": {},
   "outputs": [],
   "source": [
    "source(\"utils/plot.R\")"
   ]
  },
  {
   "cell_type": "code",
   "execution_count": 4,
   "id": "da9ff0e7",
   "metadata": {},
   "outputs": [],
   "source": [
    "data <- read_tsv(snakemake@input[[\"clues\"]], col_types=cols(locus=col_integer())) %>%\n",
    "    mutate(\n",
    "        locus_str = paste0('Pos. ', scales::comma(locus))\n",
    "    ) # %>%\n",
    "    # filter(log_prob > quantile(log_prob, 0.75))"
   ]
  },
  {
   "cell_type": "code",
   "execution_count": 5,
   "id": "9224fd28",
   "metadata": {},
   "outputs": [],
   "source": [
    "region_limits <- c(\n",
    "    snakemake@config$sweep_region_start/1000,\n",
    "    snakemake@config$sweep_region_end/1000\n",
    ")\n",
    "\n",
    "selstrens = data %>%\n",
    "    group_by(locus) %>%\n",
    "    slice_sample(n=1) %>%\n",
    "    select(locus, s_estimate) %>%\n",
    "    ungroup()\n",
    "\n",
    "trees <- read_delim(snakemake@input[[\"arg_info\"]], delim=';', col_types=cols()) %>%\n",
    "    filter(is_not_mapping==0) %>%\n",
    "    select(pos_of_snp, tree_index) %>%\n",
    "    rename(locus=pos_of_snp)"
   ]
  },
  {
   "cell_type": "code",
   "execution_count": 6,
   "id": "d561f0a7",
   "metadata": {},
   "outputs": [],
   "source": [
    "results_fig <- ggplot(selstrens) +\n",
    "    geom_hline(yintercept=0, colour='darkblue') +\n",
    "    geom_point(aes(x=locus/1000, y=s_estimate)) +\n",
    "    labs(x='Position (kb)', y='Estimated s') +\n",
    "    scale_x_continuous(limits=region_limits, labels=scales::comma) +\n",
    "    turkana_theme +\n",
    "    turkana_colour +\n",
    "    theme(\n",
    "        legend.position='none'\n",
    "    )\n",
    "turkana_save(snakemake@output[[\"results\"]], results_fig)"
   ]
  },
  {
   "cell_type": "code",
   "execution_count": 23,
   "id": "46b323f0",
   "metadata": {},
   "outputs": [],
   "source": [
    "for (loc in unique(data$locus)) {\n",
    "    \n",
    "    this <- data %>% filter(locus==loc)\n",
    "    title <- paste0('Pos. ', scales::comma(loc), ' (tree ' ,filter(trees, locus==loc)$tree_index[[1]],  ')')\n",
    "    s <- this$s_estimate[[1]]\n",
    "    subtitle <- paste0('s = ', s)\n",
    "    \n",
    "    clues <- ggplot(this) +\n",
    "        geom_raster(aes(x=gen, y=freq, fill=exp(log_prob))) +\n",
    "        scale_x_reverse() +\n",
    "        labs(\n",
    "            title=title,\n",
    "            subtitle=subtitle,\n",
    "            x='Generations ago',\n",
    "            y='Allele freq.'\n",
    "        ) +\n",
    "        turkana_theme +\n",
    "        theme(\n",
    "            legend.position = 'none',\n",
    "            axis.text.x=element_text(angle=45, hjust=1),\n",
    "            plot.subtitle=element_text(size=10, face='italic')\n",
    "        )\n",
    "\n",
    "    turkana_save(\n",
    "        paste0(snakemake@params[[\"plot_dir\"]], \"/clues_\", loc, \".pdf\"),\n",
    "        clues, width=3, asp=1\n",
    "    )\n",
    "    \n",
    "}"
   ]
  },
  {
   "cell_type": "code",
   "execution_count": null,
   "id": "b3f3cf48",
   "metadata": {},
   "outputs": [],
   "source": []
  }
 ],
 "metadata": {
  "kernelspec": {
   "display_name": "R",
   "language": "R",
   "name": "ir"
  },
  "language_info": {
   "codemirror_mode": "r",
   "file_extension": ".r",
   "mimetype": "text/x-r-source",
   "name": "R",
   "pygments_lexer": "r",
   "version": "4.1.0"
  }
 },
 "nbformat": 4,
 "nbformat_minor": 5
}
