{
 "cells": [
  {
   "cell_type": "code",
   "execution_count": 2,
   "id": "c6a78a0b",
   "metadata": {},
   "outputs": [],
   "source": [
    "source(\"utils/plot.R\")"
   ]
  },
  {
   "cell_type": "code",
   "execution_count": 3,
   "id": "da9ff0e7",
   "metadata": {},
   "outputs": [],
   "source": [
    "data <- read_tsv(snakemake@input[[\"clues\"]], col_types=cols(locus=col_integer())) %>%\n",
    "    mutate(\n",
    "        locus_str = paste0('Pos. ', scales::comma(locus))\n",
    "    ) %>%\n",
    "    filter(log_prob > quantile(log_prob, 0.75))"
   ]
  },
  {
   "cell_type": "code",
   "execution_count": 26,
   "id": "9224fd28",
   "metadata": {},
   "outputs": [],
   "source": [
    "num_tree_colors <- 4\n",
    "\n",
    "trees <- read_delim(snakemake@input[[\"arg_info\"]], delim=';', col_types=cols()) %>%\n",
    "    filter(is_not_mapping==0) %>%\n",
    "    select(pos_of_snp, tree_index) %>%\n",
    "    mutate(tree_colour=as.factor(tree_index %% num_tree_colors)) %>%\n",
    "    rename(locus=pos_of_snp)\n",
    "\n",
    "region_limits <- c(\n",
    "    snakemake@config$sweep_region_start/1000,\n",
    "    snakemake@config$sweep_region_end/1000\n",
    ")\n",
    "\n",
    "selstrens = data %>%\n",
    "    group_by(locus) %>%\n",
    "    slice_sample(n=1) %>%\n",
    "    select(locus, s_estimate) %>%\n",
    "    ungroup() %>%\n",
    "    left_join(trees, by='locus')\n",
    "\n",
    "transformed <- selstrens %>%\n",
    "    filter(s_estimate > 0, s_estimate < max(s_estimate))"
   ]
  },
  {
   "cell_type": "code",
   "execution_count": 30,
   "id": "d561f0a7",
   "metadata": {},
   "outputs": [],
   "source": [
    "raw_fig <- ggplot(selstrens) +\n",
    "    geom_point(aes(x=locus/1000, y=s_estimate)) +\n",
    "    labs(x='Position (kb)', y='Estimated s') +\n",
    "    scale_x_continuous(limits=region_limits, labels=scales::comma) +\n",
    "    turkana_theme +\n",
    "    turkana_colour +\n",
    "    theme(\n",
    "        legend.position='none'\n",
    "    )\n",
    "turkana_save(snakemake@output[[\"raw\"]], raw_fig)"
   ]
  },
  {
   "cell_type": "code",
   "execution_count": 31,
   "id": "1d5663a3",
   "metadata": {},
   "outputs": [],
   "source": [
    "trans_fig <- ggplot(transformed) +\n",
    "    geom_point(aes(x=locus/1000, y=s_estimate)) +\n",
    "    labs(x='Position (kb)', y='Estimated s') +\n",
    "    scale_x_continuous(limits=region_limits, labels=scales::comma) +\n",
    "    turkana_theme +\n",
    "    turkana_colour +\n",
    "    theme(\n",
    "        legend.position='none'\n",
    "    )\n",
    "turkana_save(snakemake@output[[\"transformed\"]], trans_fig)"
   ]
  },
  {
   "cell_type": "code",
   "execution_count": 35,
   "id": "46b323f0",
   "metadata": {},
   "outputs": [],
   "source": [
    "for (loc in unique(data$locus)) {\n",
    "    \n",
    "    this <- data %>% filter(locus==loc)\n",
    "    title <- paste0('Pos. ', scales::comma(loc))\n",
    "    subtitle <- paste0('Tree ', filter(trees, locus==loc)$tree_index[[1]])\n",
    "    s <- this$s_estimate[[1]]\n",
    "    \n",
    "    clues <- ggplot(this) +\n",
    "        stat_summary_hex(aes(x=gen, y=freq, z=exp(log_prob), alpha=exp(log_prob)), fun='sum', bins=12) +\n",
    "        geom_label(\n",
    "            aes(x=max(gen), y=1.0, label=paste0('s = ', s)),\n",
    "            size=2.5,\n",
    "            hjust=0,\n",
    "            family='Arial Narrow'\n",
    "        ) +\n",
    "        scale_y_continuous(limits=c(0, 1)) +\n",
    "        scale_x_reverse() +\n",
    "        scale_fill_gradient(low='lightgrey', high='black') +\n",
    "        labs(\n",
    "            title=title,\n",
    "            subtitle=subtitle,\n",
    "            x='Generations ago',\n",
    "            y='Allele freq.'\n",
    "        ) +\n",
    "        turkana_theme +\n",
    "        theme(\n",
    "            legend.position = 'none',\n",
    "            axis.text.x=element_text(angle=45, hjust=1),\n",
    "            plot.subtitle=element_text(size=10)\n",
    "        )\n",
    "\n",
    "    turkana_save(\n",
    "        paste0(snakemake@params[[\"plot_dir\"]], \"/clues_\", loc, \".pdf\"),\n",
    "        clues, asp=1, width=2\n",
    "    )\n",
    "    \n",
    "}"
   ]
  },
  {
   "cell_type": "code",
   "execution_count": null,
   "id": "6a23b0e5",
   "metadata": {},
   "outputs": [],
   "source": []
  }
 ],
 "metadata": {
  "kernelspec": {
   "display_name": "R",
   "language": "R",
   "name": "ir"
  },
  "language_info": {
   "codemirror_mode": "r",
   "file_extension": ".r",
   "mimetype": "text/x-r-source",
   "name": "R",
   "pygments_lexer": "r",
   "version": "4.1.0"
  }
 },
 "nbformat": 4,
 "nbformat_minor": 5
}
