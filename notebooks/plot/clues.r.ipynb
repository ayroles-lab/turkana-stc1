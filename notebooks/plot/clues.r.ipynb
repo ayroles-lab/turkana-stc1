{
 "cells": [
  {
   "cell_type": "code",
   "execution_count": 2,
   "id": "c6a78a0b",
   "metadata": {},
   "outputs": [],
   "source": [
    "source(\"utils/plot.R\")"
   ]
  },
  {
   "cell_type": "code",
   "execution_count": 83,
   "id": "da9ff0e7",
   "metadata": {},
   "outputs": [],
   "source": [
    "data <- read_tsv(snakemake@input[[1]], col_types=cols()) %>%\n",
    "    mutate(\n",
    "        locus_str = paste0('Pos. ', scales::comma(locus))\n",
    "    ) %>%\n",
    "    filter(log_prob > quantile(log_prob, 0.75))"
   ]
  },
  {
   "cell_type": "code",
   "execution_count": 84,
   "id": "b79692e1",
   "metadata": {},
   "outputs": [],
   "source": [
    "selstrens = data %>%\n",
    "    group_by(locus_str) %>%\n",
    "    slice_sample(n=1) %>%\n",
    "    select(locus_str, s_estimate) %>%\n",
    "    mutate(\n",
    "        s_str = paste0('s = ', signif(s_estimate))\n",
    "    )"
   ]
  },
  {
   "cell_type": "code",
   "execution_count": 85,
   "id": "669de83d",
   "metadata": {},
   "outputs": [],
   "source": [
    "clues <- ggplot(data) +\n",
    "    stat_summary_hex(aes(x=gen, y=freq, z=exp(log_prob), alpha=exp(log_prob)), fun='sum', bins=12) +\n",
    "    geom_label(\n",
    "        data=selstrens,\n",
    "        aes(x=max(data$gen), y=max(data$freq), label=s_str),\n",
    "        size=2.5,\n",
    "        hjust=0,\n",
    "        family='Arial Narrow'\n",
    "    ) +\n",
    "    facet_wrap(vars(locus_str)) +\n",
    "    scale_x_reverse() +\n",
    "    scale_fill_gradient(low='lightgrey', high='black') +\n",
    "    labs(\n",
    "        x='Generations ago',\n",
    "        y='Allele freq.'\n",
    "    ) +\n",
    "    turkana_theme +\n",
    "    theme(\n",
    "        legend.position = 'none',\n",
    "        axis.text.x=element_text(angle=45, hjust=1)\n",
    "    )\n",
    "\n",
    "turkana_save(snakemake@output[[1]], clues, asp=4/3)"
   ]
  },
  {
   "cell_type": "code",
   "execution_count": null,
   "id": "6a23b0e5",
   "metadata": {},
   "outputs": [],
   "source": []
  }
 ],
 "metadata": {
  "kernelspec": {
   "display_name": "R",
   "language": "R",
   "name": "ir"
  },
  "language_info": {
   "codemirror_mode": "r",
   "file_extension": ".r",
   "mimetype": "text/x-r-source",
   "name": "R",
   "pygments_lexer": "r",
   "version": "4.1.0"
  }
 },
 "nbformat": 4,
 "nbformat_minor": 5
}
