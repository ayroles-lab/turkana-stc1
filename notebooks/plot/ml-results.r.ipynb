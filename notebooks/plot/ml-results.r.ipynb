{
 "cells": [
  {
   "cell_type": "code",
   "execution_count": 2,
   "id": "31af0055",
   "metadata": {},
   "outputs": [],
   "source": [
    "source(\"utils/plot.R\")"
   ]
  },
  {
   "cell_type": "code",
   "execution_count": 3,
   "id": "78da4e6e-13a7-4400-a767-5ceadd2e01dc",
   "metadata": {},
   "outputs": [],
   "source": [
    "col_spec = cols(\n",
    "    actual_frequency_at_selection=col_number(),\n",
    "    sgv_selection_generation=col_number(),\n",
    "    num_starting_lineages = col_number(),\n",
    "    num_surviving_lineages = col_number(),\n",
    "    frequency_at_selection = col_number(),\n",
    "    swept_mutations = col_character(),\n",
    "    swept_frequencies = col_character(),\n",
    "    adaptive_mutation_rate = col_number(),\n",
    "    selection_region_size = col_number()\n",
    ")\n",
    "\n",
    "sim_data <- read_tsv(snakemake@input[[\"sim_params\"]], col_types=col_spec) %>%\n",
    "    filter(regime != \"neutral\")"
   ]
  },
  {
   "cell_type": "markdown",
   "id": "1e8f5095",
   "metadata": {},
   "outputs": [],
   "source": [
    "### Sweep timings"
   ]
  },
  {
   "cell_type": "code",
   "execution_count": 4,
   "id": "fa516b62",
   "metadata": {},
   "outputs": [],
   "source": [
    "predicted_sel <- as.numeric(snakemake@params[[\"predicted_s\"]])\n",
    "predsel_min <- predicted_sel - predicted_sel*0.1\n",
    "predsel_max <- predicted_sel + predicted_sel*0.1\n",
    "predicted_f0 <- as.numeric(snakemake@params[[\"predicted_f0\"]])"
   ]
  },
  {
   "cell_type": "code",
   "execution_count": 5,
   "id": "1cb48555-e233-4162-8124-aa600ad326a6",
   "metadata": {},
   "outputs": [],
   "source": [
    "timings <- sim_data %>%\n",
    "    mutate(fixtime = slim_generations - sgv_selection_generation) %>%\n",
    "    filter(sweep_mode == \"sgv (true)\", selection_coefficient > predsel_min, selection_coefficient < predsel_max, actual_frequency_at_selection > predicted_f0/2) %>%\n",
    "    select(fixtime, selection_coefficient)\n",
    "\n"
   ]
  },
  {
   "cell_type": "code",
   "execution_count": 6,
   "id": "a61387f3",
   "metadata": {},
   "outputs": [],
   "source": [
    "cat(\"min 25% 50% mean 75% max\", summary(timings$fixtime), file=snakemake@output[[\"timings_table\"]], sep='\\n')"
   ]
  },
  {
   "cell_type": "code",
   "execution_count": 7,
   "id": "647f920b",
   "metadata": {},
   "outputs": [],
   "source": [
    "sweeps <- sim_data %>%\n",
    "    filter(sweep_mode %in% c(\"hard\", \"sgv (true)\", \"rnm (true)\")) %>%\n",
    "    select(log_selection_coefficient, slim_generations, sweep_mode, sgv_selection_generation) %>%\n",
    "    mutate(\n",
    "        fixtime=slim_generations - sgv_selection_generation,\n",
    "        fixtime=coalesce(fixtime, slim_generations),\n",
    "        sweep_mode = str_replace_all(sweep_mode, c(\"hard\"=\"Hard sweep\", \"rnm \\\\(true\\\\)\"=\"Recurrent mutation\", \"sgv \\\\(true\\\\)\"=\"Standing variation\")),\n",
    "        selbin=cut(log_selection_coefficient, breaks=20, labels=FALSE)\n",
    "    ) %>%\n",
    "    group_by(sweep_mode, selbin) %>%\n",
    "    summarize(mean_fixtime=mean(fixtime), max_fixtime=max(fixtime), min_fixtime=min(fixtime), selmean=mean(log_selection_coefficient))"
   ]
  },
  {
   "cell_type": "code",
   "execution_count": 8,
   "id": "9ca2994f-0430-4e1e-9f6a-a8263885bf12",
   "metadata": {},
   "outputs": [],
   "source": [
    "num_gens <- summary(timings$fixtime)[\"Median\"]\n",
    "\n",
    "timing_fig <- ggplot(sweeps) +\n",
    "    geom_vline(aes(xintercept=log10(predicted_sel)), linetype='dashed', colour='darkgrey') +\n",
    "    geom_hline(aes(yintercept=num_gens), linetype='dashed', colour='darkgrey') +\n",
    "    geom_text(aes(x=-2, y=num_gens), label=paste0('t=', num_gens, ' generations'), hjust=0, vjust=0, colour='darkgrey', nudge_y=0.1, nudge_x=0.1, fontface='italic') +\n",
    "    geom_text(aes(x=log10(predicted_sel), y=1000), label=paste0('s=', predicted_sel), hjust=1, vjust=0, colour='darkgrey', fontface='italic', nudge_x=-0.05, nudge_y=0.1) +\n",
    "    geom_ribbon(aes(x=selmean, ymin=min_fixtime, ymax=max_fixtime, fill=sweep_mode), alpha=0.2) +\n",
    "    geom_line(aes(x=selmean, y=mean_fixtime, colour=sweep_mode), size=0.5) +\n",
    "    geom_point(aes(x=log10(predicted_sel), y=num_gens), colour=\"#7570b3\", size=2) +\n",
    "    scale_x_continuous(label=function(x) round(10^x, 2), n.breaks=3) +\n",
    "    scale_y_log10() +\n",
    "    labs(\n",
    "        x='Sel. coefficient',\n",
    "        y='Generations to 80% frequency'\n",
    "    ) +\n",
    "    turkana_colour +\n",
    "    turkana_fill +\n",
    "    turkana_theme +\n",
    "    theme(legend.title=element_blank())\n",
    "\n",
    "turkana_save(snakemake@output[[\"timing\"]], timing_fig, asp=1.618)"
   ]
  },
  {
   "cell_type": "markdown",
   "id": "66f5e050-d6d5-4189-afde-46fcca670869",
   "metadata": {},
   "outputs": [],
   "source": [
    "### Neural network learning curves"
   ]
  },
  {
   "cell_type": "code",
   "execution_count": 9,
   "id": "2f865793-1c8f-410c-bfe5-141805005d1e",
   "metadata": {},
   "outputs": [],
   "source": [
    "read_learning_curves <- function(filename) {\n",
    "    result <- read_tsv(filename, col_types=cols()) %>%\n",
    "    mutate(filename=basename(filename)) %>%\n",
    "    separate('filename', sep='_', into=c('target', 'dataset', NA, 'replicate'))\n",
    "    return(result)\n",
    "}"
   ]
  },
  {
   "cell_type": "code",
   "execution_count": 10,
   "id": "39dc86e5-fa9f-42d8-8821-65a505bdcd04",
   "metadata": {},
   "outputs": [],
   "source": [
    "learning0 <- bind_rows(lapply(list.files('output/model-fitting/', full.names=TRUE), read_learning_curves)) %>%\n",
    "    filter(dataset == \"codominant\", target %in% c('log-sel-strength', 'sweep-mode', 'sgv-f0', 'sweep-age')) %>%\n",
    "    pivot_longer(c('train_loss', 'valid_loss'), names_to='loss_name', values_to='loss') %>%\n",
    "    mutate(\n",
    "        target=target_factor(target),\n",
    "        loss_name=str_replace_all(loss_name, c('valid_loss'='Validation loss', 'train_loss'='Training loss'))\n",
    "    )"
   ]
  },
  {
   "cell_type": "code",
   "execution_count": 11,
   "id": "17d1362e-d170-4c81-934d-d744528fa79c",
   "metadata": {},
   "outputs": [],
   "source": [
    "learning <- learning0 %>%\n",
    "    group_by(target, epoch, loss_name) %>%\n",
    "    summarize(loss=mean(loss))"
   ]
  },
  {
   "cell_type": "code",
   "execution_count": 12,
   "id": "ce6f6e61-4d2f-4d75-ac83-8a308ae610da",
   "metadata": {},
   "outputs": [],
   "source": [
    "learning_fig <- ggplot(filter(learning, epoch > 4)) +\n",
    "    geom_line(aes(x=epoch, y=loss, colour=loss_name)) +\n",
    "    facet_wrap(vars(target), scales='free_y') +\n",
    "    turkana_colour +\n",
    "    labs(\n",
    "        x='Epoch',\n",
    "        y='Loss'\n",
    "    ) +\n",
    "    turkana_theme +\n",
    "    theme(\n",
    "        legend.position='top',\n",
    "        legend.title=element_blank(),\n",
    "        legend.justification=c(0, 0),\n",
    "        legend.box.spacing=unit(0.1, \"cm\"),\n",
    "        panel.spacing=unit(0.2, \"cm\"),\n",
    "        axis.title.y=element_text(hjust=1)\n",
    "    )\n",
    "\n",
    "turkana_save(snakemake@output[[\"learning_curves\"]], learning_fig, asp=1.618)"
   ]
  },
  {
   "cell_type": "markdown",
   "id": "c97724d5-2207-4e6f-8867-9b5d3710c79d",
   "metadata": {},
   "outputs": [],
   "source": [
    "### Selection strength validation"
   ]
  },
  {
   "cell_type": "code",
   "execution_count": 13,
   "id": "b27ac20e-81e5-41e9-bb52-72150fc69cab",
   "metadata": {},
   "outputs": [],
   "source": [
    "selstrength <- read_tsv(snakemake@input[[\"selstrength\"]], col_types=cols()) %>%\n",
    "    inner_join(sim_data, on=\"uuid\") %>%\n",
    "    mutate(sweep_mode=sweepmode_factor(sweep_mode))"
   ]
  },
  {
   "cell_type": "code",
   "execution_count": 14,
   "id": "21cb3f5b-b8db-4930-8417-1a24182db296",
   "metadata": {},
   "outputs": [],
   "source": [
    "selstrength_fig <- ggplot(selstrength) +\n",
    "    geom_point(aes(x=true_log_selection_coefficient, y=predicted_log_selection_coefficient, colour=sweep_mode), size=0.5) +\n",
    "    geom_abline(linetype='dashed') +\n",
    "    facet_wrap(vars(sweep_mode)) +\n",
    "    scale_x_continuous(labels=function(x){round(10**x, 2)}, n.breaks=3) +\n",
    "    scale_y_continuous(labels=function(x){round(10**x, 2)}, n.breaks=3) +\n",
    "    labs(\n",
    "        x = \"True sel. coefficient\",\n",
    "        y = \"Predicted sel. coefficient\"\n",
    "    ) +\n",
    "    turkana_colour +\n",
    "    turkana_theme +\n",
    "    theme(\n",
    "        legend.position=\"none\",\n",
    "        axis.text.x=element_text(angle=45, hjust=1)\n",
    "    )\n",
    "\n",
    "turkana_save(snakemake@output[[\"selstrength\"]], selstrength_fig, asp=2)"
   ]
  },
  {
   "cell_type": "markdown",
   "id": "a4f999ef-d070-4d9b-9ecf-af62518c17e9",
   "metadata": {},
   "outputs": [],
   "source": [
    "### Sweep mode validation"
   ]
  },
  {
   "cell_type": "code",
   "execution_count": 15,
   "id": "d9ad1d34-5188-428b-957d-c1efbd1fcf0b",
   "metadata": {},
   "outputs": [],
   "source": [
    "sweepmode_confmat <- read_tsv(snakemake@input[[\"sweepmode\"]], col_types=cols()) %>%\n",
    "    select(true_label, predicted_label) %>%\n",
    "    table %>%\n",
    "    as_tibble %>%\n",
    "    mutate(\n",
    "        true_label=sweepmode_factor_short(true_label),\n",
    "        predicted_label=sweepmode_factor_short(predicted_label)\n",
    "    ) %>%\n",
    "    group_by(predicted_label) %>%\n",
    "    mutate(\n",
    "        percent=n/sum(n),\n",
    "        percent_label=paste0(round(percent*100, 2), '%')\n",
    "    )"
   ]
  },
  {
   "cell_type": "code",
   "execution_count": 16,
   "id": "6331f1d1-e459-46f0-96f2-1a8c87d66a3e",
   "metadata": {},
   "outputs": [],
   "source": [
    "confmat_fig <- ggplot(sweepmode_confmat) +\n",
    "    geom_tile(aes(x=true_label, y=predicted_label, fill=percent)) +\n",
    "    geom_text(aes(x=true_label, y=predicted_label, label=percent_label, colour=percent<0.5)) +\n",
    "    scale_colour_manual(values=c('white', 'black')) +\n",
    "    scale_y_discrete(limits=rev) +\n",
    "    scale_fill_distiller(palette=3, direction=1) +\n",
    "    turkana_theme +\n",
    "    labs(x='True', y='Predicted') +\n",
    "    theme(\n",
    "        legend.position='none',\n",
    "        panel.grid=element_blank(),\n",
    "        panel.spacing=unit(0.3, \"in\")\n",
    "    )\n",
    "\n",
    "turkana_save(snakemake@output[[\"sweepmode\"]], confmat_fig, width=3, asp=1)"
   ]
  },
  {
   "cell_type": "code",
   "execution_count": null,
   "id": "ed0c8380",
   "metadata": {},
   "outputs": [],
   "source": []
  }
 ],
 "metadata": {
  "kernelspec": {
   "display_name": "R",
   "language": "R",
   "name": "ir"
  },
  "language_info": {
   "codemirror_mode": "r",
   "file_extension": ".r",
   "mimetype": "text/x-r-source",
   "name": "R",
   "pygments_lexer": "r",
   "version": "4.1.0"
  }
 },
 "nbformat": 4,
 "nbformat_minor": 5
}
