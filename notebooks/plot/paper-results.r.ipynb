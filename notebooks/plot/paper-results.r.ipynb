{
 "cells": [
  {
   "cell_type": "code",
   "execution_count": 2,
   "id": "4c24c81f",
   "metadata": {},
   "outputs": [],
   "source": [
    "source(\"utils/plot.R\")"
   ]
  },
  {
   "cell_type": "markdown",
   "id": "2a184c04",
   "metadata": {},
   "outputs": [],
   "source": [
    "### Methods diagram"
   ]
  },
  {
   "cell_type": "code",
   "execution_count": 33,
   "id": "3d4e32aa",
   "metadata": {},
   "outputs": [],
   "source": [
    "diagram <- ggplot() +\n",
    "    draw_image(snakemake@input[[\"method_diagram\"]]) +\n",
    "    turkana_theme"
   ]
  },
  {
   "cell_type": "markdown",
   "id": "a650bf47",
   "metadata": {},
   "outputs": [],
   "source": [
    "### Selection strength scatterplot"
   ]
  },
  {
   "cell_type": "code",
   "execution_count": 15,
   "id": "ece3d838",
   "metadata": {},
   "outputs": [],
   "source": [
    "selstrength <- read_tsv(snakemake@input[[\"selstrength\"]], col_types=cols())"
   ]
  },
  {
   "cell_type": "code",
   "execution_count": 41,
   "id": "9a274025",
   "metadata": {},
   "outputs": [],
   "source": [
    "selstrength_scatter <- ggplot(selstrength) +\n",
    "    geom_point(aes(x=true_log_selection_coefficient, y=predicted_log_selection_coefficient), size=0.5) +\n",
    "    geom_abline(linetype='dashed') +\n",
    "    scale_x_continuous(labels=function(x){round(10**x, 2)}, n.breaks=3) +\n",
    "    scale_y_continuous(labels=function(x){round(10**x, 2)}, n.breaks=3) +\n",
    "    labs(\n",
    "        x = \"True sel. coefficient\",\n",
    "        y = \"Predicted sel. coefficient\"\n",
    "    ) +\n",
    "    turkana_colour +\n",
    "    turkana_theme +\n",
    "    theme(\n",
    "        legend.position=\"none\",\n",
    "        plot.margin = margin(18, 7, 7, 7)\n",
    "    )"
   ]
  },
  {
   "cell_type": "markdown",
   "id": "6d4f3595",
   "metadata": {},
   "outputs": [],
   "source": [
    "### Sweep mode ROC curve"
   ]
  },
  {
   "cell_type": "code",
   "execution_count": 42,
   "id": "ac175e2d",
   "metadata": {},
   "outputs": [],
   "source": [
    "sweepmode <- read_csv(snakemake@input[[\"sweepmode\"]], col_types=cols()) %>%\n",
    "    mutate(reference_str=paste0(sweepmode_factor_short(reference_label), ' (', scales::percent(auc), ')'))"
   ]
  },
  {
   "cell_type": "code",
   "execution_count": 43,
   "id": "02d9c7dd",
   "metadata": {},
   "outputs": [],
   "source": [
    "sweepmode_roc <- ggplot(sweepmode) +\n",
    "    geom_line(aes(x=false_positive_rate, y=true_positive_rate, colour=reference_str)) +\n",
    "    geom_abline(linetype='dashed') +\n",
    "    guides(colour=guide_legend(title='Reference')) +\n",
    "    labs(\n",
    "        x='False positive rate',\n",
    "        y='True positive rate'\n",
    "    ) +\n",
    "    turkana_colour +\n",
    "    turkana_theme +\n",
    "    theme(\n",
    "        legend.position=c(1, 0),\n",
    "        legend.justification=c(1, 0),\n",
    "        legend.background=element_rect(colour='darkgrey', size=0.5),\n",
    "        legend.title=element_blank(),\n",
    "        plot.margin = margin(18, 7, 7, 7)\n",
    "    )"
   ]
  },
  {
   "cell_type": "markdown",
   "id": "94a04b36",
   "metadata": {},
   "outputs": [],
   "source": [
    "### CLUES result"
   ]
  },
  {
   "cell_type": "code",
   "execution_count": 44,
   "id": "660de82e",
   "metadata": {},
   "outputs": [],
   "source": [
    "locus_of_interest <- 23886245\n",
    "\n",
    "clues_results <- read_tsv(snakemake@input[[\"clues\"]], col_types=cols(locus=col_integer())) %>%\n",
    "    filter(locus == locus_of_interest)\n",
    "\n",
    "s_estimate <- clues_results$s_estimate[1]"
   ]
  },
  {
   "cell_type": "code",
   "execution_count": 45,
   "id": "5cba80bb",
   "metadata": {},
   "outputs": [],
   "source": [
    "clues <- ggplot(clues_results) +\n",
    "        geom_raster(aes(x=gen, y=freq, fill=exp(log_prob)), hjust=0, vjust=0.5) +\n",
    "        geom_text(aes(x=280, y=1.0, label=paste0('s = ', signif(s_estimate, 3))),\n",
    "                  colour='white', hjust=0, vjust=1, size=5\n",
    "                 ) +\n",
    "        scale_x_reverse() +\n",
    "        labs(\n",
    "            x='Generations ago',\n",
    "            y='Allele freq.'\n",
    "        ) +\n",
    "        turkana_theme +\n",
    "        theme(\n",
    "            legend.position = 'none',\n",
    "            plot.subtitle=element_text(size=10, face='italic')\n",
    "        )"
   ]
  },
  {
   "cell_type": "markdown",
   "id": "92cd9d54",
   "metadata": {},
   "outputs": [],
   "source": [
    "### Empirical inferences"
   ]
  },
  {
   "cell_type": "code",
   "execution_count": 46,
   "id": "28fe0a64",
   "metadata": {},
   "outputs": [],
   "source": [
    "read_empirical <- function(f) {\n",
    "    result <- read_tsv(f, col_types=cols()) %>%\n",
    "        select(!uuid) %>%\n",
    "        mutate(filename=basename(tools::file_path_sans_ext(f))) %>%\n",
    "        separate(filename, into=c('target', 'dataset', NA, 'replicate'), sep=\"_\") %>%\n",
    "        separate(replicate, into=c(NA, 'replicate'), sep='-', convert=TRUE) %>%\n",
    "        mutate(dataset=tools::toTitleCase(dataset))\n",
    "    return(result)\n",
    "}"
   ]
  },
  {
   "cell_type": "code",
   "execution_count": 47,
   "id": "6ffff97d",
   "metadata": {},
   "outputs": [],
   "source": [
    "empirical_files <- snakemake@input[[\"empirical_inferences\"]]\n",
    "\n",
    "empirical_selstrength <- bind_rows(lapply(empirical_files[str_detect(empirical_files, 'sel-strength')], read_empirical))\n",
    "\n",
    "# Currently not using this one\n",
    "empirical_sweepmode <- bind_rows(lapply(empirical_files[str_detect(empirical_files, 'sweep-mode')], read_empirical))"
   ]
  },
  {
   "cell_type": "code",
   "execution_count": 48,
   "id": "edd89145",
   "metadata": {},
   "outputs": [],
   "source": [
    "empirical <- ggplot(empirical_selstrength) +\n",
    "    geom_boxplot(aes(x=dataset, y=predicted_log_selection_coefficient)) +\n",
    "    geom_point(aes(x=dataset, y=predicted_log_selection_coefficient)) +\n",
    "    scale_y_continuous(labels=function(x){signif(10**x, 3)}, n.breaks=3) +\n",
    "    scale_x_discrete(limits=rev) +\n",
    "    labs(\n",
    "        y = \"Predicted sel. coefficient\"\n",
    "    ) +\n",
    "    turkana_theme +\n",
    "    theme(\n",
    "        axis.title.x = element_blank(),\n",
    "        plot.margin = margin(7, 7, 7, 18)\n",
    "    )"
   ]
  },
  {
   "cell_type": "markdown",
   "id": "000e950f",
   "metadata": {},
   "outputs": [],
   "source": [
    "### Put them together"
   ]
  },
  {
   "cell_type": "code",
   "execution_count": 50,
   "id": "4eafb2ee",
   "metadata": {},
   "outputs": [],
   "source": [
    "bottom_grid <- plot_grid(selstrength_scatter, sweepmode_roc, clues, empirical,\n",
    "                         nrow=2, ncol=2, labels=c(\"B\", \"C\", \"D\", \"E\"), align='hv', axis='lb')\n",
    "\n",
    "final_fig <- plot_grid(NULL, bottom_grid, labels=c(\"A\", NA), nrow=2, rel_heights=c(1, 2))\n",
    "\n",
    "turkana_save(snakemake@output[[\"figure\"]], final_fig, width=6, asp=2.5/3)"
   ]
  },
  {
   "cell_type": "code",
   "execution_count": null,
   "id": "4aa7f164",
   "metadata": {},
   "outputs": [],
   "source": []
  },
  {
   "cell_type": "code",
   "execution_count": null,
   "id": "d0f27a06",
   "metadata": {},
   "outputs": [],
   "source": []
  }
 ],
 "metadata": {
  "kernelspec": {
   "display_name": "R",
   "language": "R",
   "name": "ir"
  },
  "language_info": {
   "codemirror_mode": "r",
   "file_extension": ".r",
   "mimetype": "text/x-r-source",
   "name": "R",
   "pygments_lexer": "r",
   "version": "4.1.0"
  }
 },
 "nbformat": 4,
 "nbformat_minor": 5
}
