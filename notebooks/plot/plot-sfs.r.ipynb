{
 "cells": [
  {
   "cell_type": "code",
   "execution_count": 2,
   "id": "1970bd5d",
   "metadata": {},
   "outputs": [],
   "source": [
    "source(\"utils/plot.R\")"
   ]
  },
  {
   "cell_type": "code",
   "execution_count": 3,
   "id": "05421d01",
   "metadata": {},
   "outputs": [],
   "source": [
    "get_folded_sfs <- function(filename, n) {\n",
    "    sfs <- read_tsv(filename, col_types=cols()) %>%\n",
    "        filter(num_alternate != 0, num_alternate != N) %>%\n",
    "        mutate(num_minor=pmin(num_alternate, N - num_alternate)) %>%\n",
    "        group_by(num_minor) %>%\n",
    "        summarize(num_sites=sum(num_sites)) %>%\n",
    "        mutate(freq=num_minor/N)\n",
    "    reference <- sfs$num_sites[1]\n",
    "    phi_1 <- 1 + 1/(N - 1)\n",
    "    theta <- reference/phi_1\n",
    "    sfs <- sfs %>% mutate(\n",
    "        # Expected folded SFS from https://doi.org/10.1006/tpbi.1995.1025\n",
    "        expected=theta*((1/(1 + as.integer(num_minor == N - num_minor)))*(1/num_minor + 1/(N - num_minor))),\n",
    "        scaled=num_sites/expected\n",
    "    )\n",
    "    return(sfs)\n",
    "}"
   ]
  },
  {
   "cell_type": "code",
   "execution_count": 4,
   "id": "51d5e9a0",
   "metadata": {},
   "outputs": [],
   "source": [
    "N <- 220\n",
    "empirical <- get_folded_sfs(snakemake@input$empirical, n=N)\n",
    "simulated <- get_folded_sfs(snakemake@input$simulated, n=N)\n",
    "sfs <- bind_rows(Empirical=empirical, Simulated=simulated, .id='Dataset')"
   ]
  },
  {
   "cell_type": "code",
   "execution_count": 5,
   "id": "56328f13",
   "metadata": {},
   "outputs": [],
   "source": [
    "weirdness <- tibble(location=c(46, 108)) %>% mutate(freq=location/N, label=paste('n =', location))"
   ]
  },
  {
   "cell_type": "code",
   "execution_count": 6,
   "id": "b924f70b",
   "metadata": {},
   "outputs": [],
   "source": [
    "fig <- ggplot(sfs) +\n",
    "    geom_vline(data=weirdness, aes(xintercept=freq), linetype='dashed') +\n",
    "    geom_text(data=weirdness, aes(x=freq, y=0.75, label=label), hjust=1, nudge_x=-0.01) +\n",
    "    geom_line(aes(x=freq, y=scaled, colour=Dataset), size=1) +\n",
    "    turkana_colour +\n",
    "    labs(\n",
    "        x = \"Frequency\",\n",
    "        y = \"Observed/Expected\",\n",
    "        title = \"Genome-wide SFS\"\n",
    "    ) +\n",
    "    turkana_theme +\n",
    "    theme(\n",
    "        legend.position='top',\n",
    "        legend.title=element_blank(),\n",
    "        panel.grid.major.y = element_blank(),\n",
    "    )\n",
    "\n",
    "turkana_save(snakemake@output[[1]], fig, width=4)"
   ]
  },
  {
   "cell_type": "code",
   "execution_count": null,
   "id": "1f475f3a",
   "metadata": {},
   "outputs": [],
   "source": []
  },
  {
   "cell_type": "code",
   "execution_count": null,
   "id": "c52a9bed",
   "metadata": {},
   "outputs": [],
   "source": []
  }
 ],
 "metadata": {
  "kernelspec": {
   "display_name": "R",
   "language": "R",
   "name": "ir"
  },
  "language_info": {
   "codemirror_mode": "r",
   "file_extension": ".r",
   "mimetype": "text/x-r-source",
   "name": "R",
   "pygments_lexer": "r",
   "version": "4.1.0"
  }
 },
 "nbformat": 4,
 "nbformat_minor": 5
}
