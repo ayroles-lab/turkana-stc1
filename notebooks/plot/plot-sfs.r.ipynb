{
 "cells": [
  {
   "cell_type": "code",
   "execution_count": 2,
   "id": "8e926346",
   "metadata": {},
   "outputs": [],
   "source": [
    "library(tidyverse)"
   ]
  },
  {
   "cell_type": "code",
   "execution_count": 37,
   "id": "1970bd5d",
   "metadata": {},
   "outputs": [],
   "source": [
    "source(\"utils/plot.R\")"
   ]
  },
  {
   "cell_type": "code",
   "execution_count": 50,
   "id": "4cc75883",
   "metadata": {},
   "outputs": [],
   "source": [
    "sfs <- read_tsv(snakemake@input[[1]], col_types=cols()) %>%\n",
    "    filter(num_derived != 0, num_derived != 220)  %>% # remove fixed sites from SFS\n",
    "    mutate(\n",
    "        Empirical = (num_sites*num_derived)/num_sites[1],\n",
    "        `Expected (Neutrality)` = 1\n",
    "    ) %>%\n",
    "    pivot_longer(cols=c(Empirical, `Expected (Neutrality)`), names_to=\"Source\", values_to=\"normalized_num_sites\")"
   ]
  },
  {
   "cell_type": "code",
   "execution_count": 51,
   "id": "b924f70b",
   "metadata": {},
   "outputs": [],
   "source": [
    "fig <- ggplot(sfs) +\n",
    "    geom_line(aes(x=num_derived, y=normalized_num_sites, colour=Source)) +\n",
    "    scale_colour_brewer(palette=\"Dark2\") +\n",
    "    labs(\n",
    "        x = \"# derived alleles\",\n",
    "        y = \"# sites (normalized to 1/x)\",\n",
    "        title = \"Genome-wide SFS\"\n",
    "    ) +\n",
    "    basic_theme +\n",
    "    theme(legend.position='top')\n",
    "\n",
    "ggsave(snakemake@output[[1]], plot=fig, width=4, height=3)"
   ]
  },
  {
   "cell_type": "code",
   "execution_count": null,
   "id": "1f475f3a",
   "metadata": {},
   "outputs": [],
   "source": []
  }
 ],
 "metadata": {
  "kernelspec": {
   "display_name": "R",
   "language": "R",
   "name": "ir"
  },
  "language_info": {
   "codemirror_mode": "r",
   "file_extension": ".r",
   "mimetype": "text/x-r-source",
   "name": "R",
   "pygments_lexer": "r",
   "version": "4.1.0"
  }
 },
 "nbformat": 4,
 "nbformat_minor": 5
}
