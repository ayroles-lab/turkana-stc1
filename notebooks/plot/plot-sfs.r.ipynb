{
 "cells": [
  {
   "cell_type": "code",
   "execution_count": 2,
   "id": "8e926346",
   "metadata": {},
   "outputs": [],
   "source": [
    "library(tidyverse)"
   ]
  },
  {
   "cell_type": "code",
   "execution_count": 3,
   "id": "a559d920",
   "metadata": {},
   "outputs": [],
   "source": [
    "library(cowplot)"
   ]
  },
  {
   "cell_type": "code",
   "execution_count": 4,
   "id": "1970bd5d",
   "metadata": {},
   "outputs": [],
   "source": [
    "source(\"utils/plot.R\")"
   ]
  },
  {
   "cell_type": "code",
   "execution_count": 8,
   "id": "e592429e",
   "metadata": {},
   "outputs": [],
   "source": [
    "N <- 220"
   ]
  },
  {
   "cell_type": "code",
   "execution_count": 16,
   "id": "51d5e9a0",
   "metadata": {},
   "outputs": [],
   "source": [
    "sfs <- read_tsv(snakemake@input[[1]], col_types=cols()) %>%\n",
    "    filter(num_alternate != 0, num_alternate != N) %>%\n",
    "    mutate(num_minor=pmin(num_alternate, N - num_alternate)) %>%\n",
    "    group_by(num_minor) %>%\n",
    "    summarize(num_sites=sum(num_sites)) %>%\n",
    "    mutate(freq=num_minor/N)"
   ]
  },
  {
   "cell_type": "code",
   "execution_count": 23,
   "id": "d440fcba",
   "metadata": {},
   "outputs": [],
   "source": [
    "reference <- sfs$num_sites[1]\n",
    "phi_1 <- 1 + 1/(N - 1)\n",
    "theta <- reference/phi_1"
   ]
  },
  {
   "cell_type": "code",
   "execution_count": 35,
   "id": "8143ac3c",
   "metadata": {},
   "outputs": [],
   "source": [
    "sfs <- sfs %>% mutate(\n",
    "    # Expected folded SFS from https://doi.org/10.1006/tpbi.1995.1025\n",
    "    expected=theta*((1/(1 + as.integer(num_minor == N - num_minor)))*(1/num_minor + 1/(N - num_minor))),\n",
    "    scaled=num_sites/expected\n",
    ")"
   ]
  },
  {
   "cell_type": "code",
   "execution_count": 57,
   "id": "56328f13",
   "metadata": {},
   "outputs": [],
   "source": [
    "weirdness <- tibble(location=c(46, 108)) %>% mutate(freq=location/N, label=paste('n =', location))"
   ]
  },
  {
   "cell_type": "code",
   "execution_count": 59,
   "id": "b924f70b",
   "metadata": {},
   "outputs": [],
   "source": [
    "fig <- ggplot(sfs) +\n",
    "    geom_vline(data=weirdness, aes(xintercept=freq), colour='darkred', linetype='dashed') +\n",
    "    geom_text(data=weirdness, aes(x=freq, y=0.75, label=label), colour='darkred', hjust=1, nudge_x=-0.01) +\n",
    "    geom_point(aes(x=freq, y=scaled), size=1) +\n",
    "    scale_colour_brewer(palette=\"Dark2\") +\n",
    "    labs(\n",
    "        x = \"Frequency\",\n",
    "        y = \"Observed/Expected\",\n",
    "        title = \"Genome-wide SFS\"\n",
    "    ) +\n",
    "    basic_theme +\n",
    "    theme(\n",
    "        legend.position='top',\n",
    "        legend.title=element_blank(),\n",
    "        panel.grid.major.y = element_blank(),\n",
    "    )\n",
    "\n",
    "save_plot(snakemake@output[[1]], plot=fig, base_height=NULL, base_width=4, base_asp=4/3)"
   ]
  },
  {
   "cell_type": "code",
   "execution_count": null,
   "id": "1f475f3a",
   "metadata": {},
   "outputs": [],
   "source": []
  }
 ],
 "metadata": {
  "kernelspec": {
   "display_name": "R",
   "language": "R",
   "name": "ir"
  },
  "language_info": {
   "codemirror_mode": "r",
   "file_extension": ".r",
   "mimetype": "text/x-r-source",
   "name": "R",
   "pygments_lexer": "r",
   "version": "4.1.0"
  }
 },
 "nbformat": 4,
 "nbformat_minor": 5
}
