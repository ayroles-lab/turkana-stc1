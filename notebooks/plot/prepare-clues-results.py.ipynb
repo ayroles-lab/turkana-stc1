{
 "cells": [
  {
   "cell_type": "code",
   "execution_count": 2,
   "id": "cc682673-a5ce-45a8-810b-bf9c56baf38e",
   "metadata": {},
   "outputs": [],
   "source": [
    "from pathlib import Path\n",
    "\n",
    "import numpy as np\n",
    "import pandas as pd"
   ]
  },
  {
   "cell_type": "code",
   "execution_count": 5,
   "id": "7504dd96-cfff-45a2-9fd2-2f0b53af4255",
   "metadata": {},
   "outputs": [],
   "source": [
    "logs = [Path(filename) for filename in snakemake.input if filename.endswith('.log')]\n",
    "results = []\n",
    "\n",
    "for logfile in logs:\n",
    "    freqs = np.load(logfile.parent/(logfile.stem + '.freqs.npy'))\n",
    "    epochs = np.load(logfile.parent/(logfile.stem + '.epochs.npy'))\n",
    "    posterior = np.load(logfile.parent/(logfile.stem + '.post.npy'))\n",
    "    \n",
    "    with open(logfile) as f:\n",
    "        line = f.readline()\n",
    "        while not line.startswith('epoch'):\n",
    "            line = f.readline()\n",
    "        s_line = f.readline()\n",
    "        s_estimate = float(s_line.split()[1])\n",
    "        \n",
    "    data = (\n",
    "        pd.DataFrame(posterior)\n",
    "        .stack()\n",
    "        .reset_index()\n",
    "        .rename({'level_0': 'freq', 'level_1': 'gen', 0: 'log_prob'}, axis='columns')\n",
    "    )\n",
    "    gens_of_interest = sorted(data.gen.unique())[::20]\n",
    "    data = data.loc[np.isin(data.gen, gens_of_interest)]\n",
    "    data = data.assign(\n",
    "        freq = [freqs[i] for i in data.freq],\n",
    "        gen = [epochs[i] for i in data.gen],\n",
    "        s_estimate = s_estimate,\n",
    "        locus = logfile.stem.split('_')[1]\n",
    "    )\n",
    "    results.append(data)\n",
    "    \n",
    "data = pd.concat(results)"
   ]
  },
  {
   "cell_type": "code",
   "execution_count": 7,
   "id": "a8adc601-2a32-4533-829d-55bfc4e254ba",
   "metadata": {},
   "outputs": [],
   "source": [
    "data.to_csv(snakemake.output[0], sep='\\t', index=False)"
   ]
  },
  {
   "cell_type": "code",
   "execution_count": null,
   "id": "f7d66052-521e-4c21-aa96-5145778e1a1e",
   "metadata": {},
   "outputs": [],
   "source": []
  }
 ],
 "metadata": {
  "kernelspec": {
   "display_name": "Python 3 (ipykernel)",
   "language": "python",
   "name": "python3"
  },
  "language_info": {
   "codemirror_mode": {
    "name": "ipython",
    "version": 3
   },
   "file_extension": ".py",
   "mimetype": "text/x-python",
   "name": "python",
   "nbconvert_exporter": "python",
   "pygments_lexer": "ipython3",
   "version": "3.9.10"
  }
 },
 "nbformat": 4,
 "nbformat_minor": 5
}
