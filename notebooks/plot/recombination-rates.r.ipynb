{
 "cells": [
  {
   "cell_type": "code",
   "execution_count": 12,
   "id": "524d864f",
   "metadata": {},
   "outputs": [],
   "source": [
    "source(\"utils/plot.R\")"
   ]
  },
  {
   "cell_type": "code",
   "execution_count": 27,
   "id": "05f1d669",
   "metadata": {},
   "outputs": [],
   "source": [
    "data <- read_tsv(snakemake@input$chrom, col_types=cols()) %>%\n",
    "    mutate(middle = (start + end)/2) %>%\n",
    "    select(!c(Physical_Pos, start, end)) %>%\n",
    "    pivot_longer(cols=!middle, names_to=\"Map\") %>%\n",
    "    mutate(value=ifelse(value == 0, NA, value))"
   ]
  },
  {
   "cell_type": "code",
   "execution_count": 39,
   "id": "37293c68",
   "metadata": {},
   "outputs": [],
   "source": [
    "sweep_loc <- (snakemake@config$sweep_region_start + snakemake@config$sweep_region_end)/2"
   ]
  },
  {
   "cell_type": "code",
   "execution_count": 44,
   "id": "4e017ca6",
   "metadata": {},
   "outputs": [],
   "source": []
  },
  {
   "cell_type": "code",
   "execution_count": 57,
   "id": "34f98a5f",
   "metadata": {},
   "outputs": [],
   "source": [
    "fig <- ggplot(data) +\n",
    "    geom_vline(aes(xintercept=sweep_loc/1000), linetype='dashed', colour='darkgrey') +\n",
    "    geom_text(aes(x=sweep_loc/1000, y=quantile(value, 0.01, na.rm=TRUE), label='STC1'), angle=90, vjust=0, colour='darkgrey', nudge_x=-5000) +\n",
    "    geom_line(aes(x=middle/1000, y=value, colour=Map)) +\n",
    "    turkana_colour +\n",
    "    labs(x='Position (kb)', y='Rec. rate') +\n",
    "    scale_x_continuous(labels=scales::comma) +\n",
    "    scale_y_log10() +\n",
    "    turkana_theme\n",
    "\n",
    "turkana_save(snakemake@output[[1]], fig, asp=1.8)"
   ]
  },
  {
   "cell_type": "code",
   "execution_count": null,
   "id": "a6437f77",
   "metadata": {},
   "outputs": [],
   "source": []
  },
  {
   "cell_type": "code",
   "execution_count": null,
   "id": "bbe168a6",
   "metadata": {},
   "outputs": [],
   "source": []
  }
 ],
 "metadata": {
  "kernelspec": {
   "display_name": "R",
   "language": "R",
   "name": "ir"
  },
  "language_info": {
   "codemirror_mode": "r",
   "file_extension": ".r",
   "mimetype": "text/x-r-source",
   "name": "R",
   "pygments_lexer": "r",
   "version": "4.1.0"
  }
 },
 "nbformat": 4,
 "nbformat_minor": 5
}
