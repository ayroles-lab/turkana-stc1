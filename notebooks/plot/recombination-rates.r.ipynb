{
 "cells": [
  {
   "cell_type": "code",
   "execution_count": 2,
   "id": "524d864f",
   "metadata": {},
   "outputs": [],
   "source": [
    "source(\"utils/plot.R\")"
   ]
  },
  {
   "cell_type": "code",
   "execution_count": 3,
   "id": "05f1d669",
   "metadata": {},
   "outputs": [],
   "source": [
    "data <- read_tsv(snakemake@input$chrom, col_types=cols()) %>%\n",
    "    mutate(middle = (start + end)/2) %>%\n",
    "    select(!c(start, end)) %>%\n",
    "    pivot_longer(cols=!c(middle, window_size), names_to=\"Map\") %>%\n",
    "    mutate(value=ifelse(value == 0, NA, value)) %>%\n",
    "    filter(!(window_size==1e4 & !between(middle, snakemake@config$sweep_region_start, snakemake@config$sweep_region_end)))"
   ]
  },
  {
   "cell_type": "code",
   "execution_count": 6,
   "id": "3f97c841",
   "metadata": {},
   "outputs": [],
   "source": [
    "data"
   ]
  },
  {
   "cell_type": "code",
   "execution_count": 12,
   "id": "c58c576b",
   "metadata": {},
   "outputs": [],
   "source": [
    "sweep_loc = (snakemake@config$sweep_region_end + snakemake@config$sweep_region_start)/2"
   ]
  },
  {
   "cell_type": "code",
   "execution_count": 13,
   "id": "34f98a5f",
   "metadata": {},
   "outputs": [],
   "source": [
    "fig <- ggplot(data) +\n",
    "    geom_vline(aes(xintercept=sweep_loc/1000), linetype='dashed', colour='darkgrey') +\n",
    "    geom_line(aes(x=middle/1000, y=value, colour=Map)) +\n",
    "    facet_wrap(vars(paste0(scales::comma(window_size/1000), 'kb windows')), nrow=2, scales='free') +\n",
    "    turkana_colour +\n",
    "    labs(x='Position (kb)', y='Rec. rate') +\n",
    "    scale_x_continuous(labels=scales::comma) +\n",
    "    scale_y_log10() +\n",
    "    turkana_theme\n",
    "\n",
    "turkana_save(snakemake@output[[1]], fig, asp=1.5, width=6)"
   ]
  },
  {
   "cell_type": "code",
   "execution_count": null,
   "id": "bbe168a6",
   "metadata": {},
   "outputs": [],
   "source": []
  }
 ],
 "metadata": {
  "kernelspec": {
   "display_name": "R",
   "language": "R",
   "name": "ir"
  },
  "language_info": {
   "codemirror_mode": "r",
   "file_extension": ".r",
   "mimetype": "text/x-r-source",
   "name": "R",
   "pygments_lexer": "r",
   "version": "4.1.0"
  }
 },
 "nbformat": 4,
 "nbformat_minor": 5
}
