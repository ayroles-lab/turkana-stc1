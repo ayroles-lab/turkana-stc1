{
 "cells": [
  {
   "cell_type": "code",
   "execution_count": 2,
   "id": "4f0e330e",
   "metadata": {},
   "outputs": [],
   "source": [
    "import pandas as pd\n",
    "from sklearn.metrics import roc_curve, roc_auc_score"
   ]
  },
  {
   "cell_type": "code",
   "execution_count": 3,
   "id": "ac4b1831",
   "metadata": {},
   "outputs": [],
   "source": [
    "with open(snakemake.input[\"labels\"]) as f:\n",
    "    labels = {ix: lab.strip() for ix, lab in enumerate(f)}"
   ]
  },
  {
   "cell_type": "code",
   "execution_count": 5,
   "id": "4333a98b",
   "metadata": {},
   "outputs": [],
   "source": [
    "data = pd.read_table(snakemake.input[\"data\"])"
   ]
  },
  {
   "cell_type": "code",
   "execution_count": 7,
   "id": "5cfa1527",
   "metadata": {},
   "outputs": [],
   "source": [
    "def roc_curve_for_label(df, ix, label):\n",
    "    fpr, tpr, thresholds = roc_curve(\n",
    "        y_true = df.true_ix,\n",
    "        y_score = df[label],\n",
    "        pos_label = ix\n",
    "    )\n",
    "    result = pd.DataFrame({\n",
    "        'false_positive_rate': fpr,\n",
    "        'true_positive_rate': tpr,\n",
    "        'reference_ix': ix,\n",
    "        'reference_label': label\n",
    "    })\n",
    "    return result"
   ]
  },
  {
   "cell_type": "code",
   "execution_count": 8,
   "id": "21c2558f",
   "metadata": {},
   "outputs": [],
   "source": [
    "roc_df = pd.concat([roc_curve_for_label(data, ix, label) for ix, label in labels.items()])"
   ]
  },
  {
   "cell_type": "code",
   "execution_count": 17,
   "id": "58e50bd3",
   "metadata": {},
   "outputs": [],
   "source": [
    "auc_records = []\n",
    "\n",
    "for ix, label in labels.items():\n",
    "    record = (\n",
    "        label,\n",
    "        roc_auc_score(\n",
    "            y_true = data.true_ix.eq(ix).astype(int),\n",
    "            y_score = data[label]\n",
    "        )\n",
    "    )\n",
    "    auc_records.append(record)\n",
    "auc = pd.DataFrame.from_records(auc_records, columns=['reference_label', 'auc']).set_index(\"reference_label\")"
   ]
  },
  {
   "cell_type": "code",
   "execution_count": 20,
   "id": "75a80bc7",
   "metadata": {},
   "outputs": [],
   "source": [
    "roc_df = roc_df.join(auc, on=\"reference_label\")"
   ]
  },
  {
   "cell_type": "code",
   "execution_count": 22,
   "id": "9445d59f",
   "metadata": {},
   "outputs": [],
   "source": [
    "roc_df.to_csv(snakemake.output[\"curve\"], index=False)"
   ]
  },
  {
   "cell_type": "code",
   "execution_count": null,
   "id": "c538484f",
   "metadata": {},
   "outputs": [],
   "source": []
  }
 ],
 "metadata": {
  "kernelspec": {
   "display_name": "Python 3 (ipykernel)",
   "language": "python",
   "name": "python3"
  },
  "language_info": {
   "codemirror_mode": {
    "name": "ipython",
    "version": 3
   },
   "file_extension": ".py",
   "mimetype": "text/x-python",
   "name": "python",
   "nbconvert_exporter": "python",
   "pygments_lexer": "ipython3",
   "version": "3.9.13"
  }
 },
 "nbformat": 4,
 "nbformat_minor": 5
}
