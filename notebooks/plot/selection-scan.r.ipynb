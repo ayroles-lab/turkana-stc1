{
 "cells": [
  {
   "cell_type": "code",
   "execution_count": 2,
   "id": "5641c56c",
   "metadata": {
    "scrolled": true
   },
   "outputs": [],
   "source": [
    "source(\"utils/plot.R\")"
   ]
  },
  {
   "cell_type": "code",
   "execution_count": 3,
   "id": "7224d802",
   "metadata": {},
   "outputs": [],
   "source": [
    "data <- read_tsv(snakemake@input[[1]], col_types=cols()) %>%\n",
    "    filter(feature %in% c('pi', 'taj_D', 'H12')) %>%\n",
    "    mutate(feature=feat_factor(feature))"
   ]
  },
  {
   "cell_type": "code",
   "execution_count": 6,
   "id": "1e2a2868",
   "metadata": {},
   "outputs": [],
   "source": [
    "fig <- ggplot(data) +\n",
    "    geom_line(aes(x=center_pos/1e6, y=value, colour=feature)) +\n",
    "    facet_wrap(vars(feature), ncol=1, scales='free_y') +\n",
    "    turkana_colour +\n",
    "    labs(\n",
    "        x='Position (Mb)'\n",
    "    ) +\n",
    "    turkana_theme +\n",
    "    theme(\n",
    "        legend.position='none',\n",
    "        axis.title.y=element_blank()\n",
    "    )\n",
    "\n",
    "turkana_save(snakemake@output[[1]], fig, asp=4/3)"
   ]
  },
  {
   "cell_type": "code",
   "execution_count": null,
   "id": "fbe96b07",
   "metadata": {},
   "outputs": [],
   "source": []
  }
 ],
 "metadata": {
  "kernelspec": {
   "display_name": "R",
   "language": "R",
   "name": "ir"
  },
  "language_info": {
   "codemirror_mode": "r",
   "file_extension": ".r",
   "mimetype": "text/x-r-source",
   "name": "R",
   "pygments_lexer": "r",
   "version": "4.1.0"
  }
 },
 "nbformat": 4,
 "nbformat_minor": 5
}
