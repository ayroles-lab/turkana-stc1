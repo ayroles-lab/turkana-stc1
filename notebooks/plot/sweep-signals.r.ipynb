{
 "cells": [
  {
   "cell_type": "code",
   "execution_count": 2,
   "id": "4bccd983",
   "metadata": {},
   "outputs": [],
   "source": [
    "source(\"utils/plot.R\")"
   ]
  },
  {
   "cell_type": "code",
   "execution_count": 5,
   "id": "5a5d3cbc",
   "metadata": {},
   "outputs": [],
   "source": [
    "signals <- read_tsv(snakemake@input[[1]], col_types=cols()) %>%\n",
    "    mutate(\n",
    "        feature=feat_factor(feature),\n",
    "        position = position - 5,\n",
    "        PositionInKbp = position*(window_size/2)/1000,\n",
    "        WindowSize=paste(round(window_size/1000, 1), 'kb', sep=''),\n",
    "        WindowSize=factor(WindowSize, levels=str_sort(unique(WindowSize), numeric=TRUE)),\n",
    "        dataset=str_replace_all(dataset, c('sweep'='STC1'))\n",
    "    )"
   ]
  },
  {
   "cell_type": "code",
   "execution_count": 7,
   "id": "3106bc80",
   "metadata": {},
   "outputs": [],
   "source": [
    "# Pick K window sizes to use\n",
    "\n",
    "K <- 5\n",
    "acceptable_ws <- quantile(signals$window_size, probs=c(0, 0.25, 0.5, 0.75, 1))\n",
    "signals <- signals %>%\n",
    "    filter(window_size %in% acceptable_ws)"
   ]
  },
  {
   "cell_type": "code",
   "execution_count": 10,
   "id": "ef7ea539",
   "metadata": {},
   "outputs": [],
   "source": [
    "signals_fig <- ggplot(signals) +\n",
    "    geom_line(aes(x=PositionInKbp, y=value, colour=feature)) +\n",
    "    facet_grid(rows=vars(dataset), cols=vars(WindowSize), switch='y', scales='free_x') +\n",
    "    labs(\n",
    "        x='Position (kb)',\n",
    "        y='Normalized statistic'\n",
    "    ) +\n",
    "    turkana_colour +\n",
    "    turkana_theme +\n",
    "    theme(\n",
    "        panel.grid.major.y = element_blank(),\n",
    "        axis.text.y = element_blank(),\n",
    "        axis.title.y = element_blank(),\n",
    "        strip.text.y.left = element_text(angle = 0),\n",
    "        panel.border = element_rect(colour='grey', fill=NA),\n",
    "        legend.title = element_blank(),\n",
    "        axis.text.x = element_text(angle=45, hjust=1),\n",
    "        panel.spacing.x = unit(0.4, \"lines\"),\n",
    "    )"
   ]
  },
  {
   "cell_type": "code",
   "execution_count": 12,
   "id": "63689d50",
   "metadata": {},
   "outputs": [],
   "source": [
    "turkana_save(snakemake@output[[1]], signals_fig, width=6)"
   ]
  },
  {
   "cell_type": "code",
   "execution_count": null,
   "id": "5b96db4c",
   "metadata": {},
   "outputs": [],
   "source": []
  }
 ],
 "metadata": {
  "kernelspec": {
   "display_name": "R",
   "language": "R",
   "name": "ir"
  },
  "language_info": {
   "codemirror_mode": "r",
   "file_extension": ".r",
   "mimetype": "text/x-r-source",
   "name": "R",
   "pygments_lexer": "r",
   "version": "4.1.0"
  }
 },
 "nbformat": 4,
 "nbformat_minor": 5
}
