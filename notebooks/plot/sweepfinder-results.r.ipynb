{
 "cells": [
  {
   "cell_type": "code",
   "execution_count": 2,
   "id": "675b1d47",
   "metadata": {},
   "outputs": [],
   "source": [
    "source(\"utils/plot.R\")"
   ]
  },
  {
   "cell_type": "code",
   "execution_count": 3,
   "id": "c04c554c",
   "metadata": {},
   "outputs": [],
   "source": [
    "library(ggrepel)"
   ]
  },
  {
   "cell_type": "code",
   "execution_count": 12,
   "id": "a9ca85cf",
   "metadata": {},
   "outputs": [],
   "source": [
    "quantile_threshold = 0.99\n",
    "\n",
    "sf2 <- read_tsv(snakemake@input[[1]], col_types=cols(), skip=2) %>%\n",
    "    rename(CLR=Likelihood ) %>%\n",
    "    mutate(\n",
    "        selcoeff = Alpha/(4*snakemake@params[[\"popsize\"]]),\n",
    "        Candidate = CLR > quantile(CLR, quantile_threshold)\n",
    "    )"
   ]
  },
  {
   "cell_type": "code",
   "execution_count": 22,
   "id": "779166c4",
   "metadata": {},
   "outputs": [],
   "source": [
    "to_label <- sf2 %>%\n",
    "    filter(Candidate) %>%\n",
    "    slice_max(n=5, order_by=CLR)\n",
    "\n",
    "fig <- ggplot(sf2) +\n",
    "    geom_point(aes(x=Position/1000, y=CLR, colour=Candidate), size=1) +\n",
    "    geom_hline(aes(yintercept=quantile(CLR, quantile_threshold)), linetype='dashed', colour='darkgrey') +\n",
    "    geom_text(aes(x=min(Position/1000), y=quantile(CLR, quantile_threshold)),\n",
    "              label=paste0(scales::percent(quantile_threshold), ' quantile'),\n",
    "              fontface='italic', vjust=0, hjust=0, size=3) +\n",
    "    geom_label_repel(\n",
    "        data=to_label,\n",
    "        aes(x=Position/1000, y=CLR, label=paste0('s = ', signif(selcoeff, 2))),\n",
    "        min.segment.length=0, size=3\n",
    "    ) +\n",
    "    labs(\n",
    "        x='Position (kb)',\n",
    "        y='CLR'\n",
    "    ) +\n",
    "    scale_x_continuous(labels=scales::comma) +\n",
    "    scale_colour_manual(values=c('lightgrey', 'black')) +\n",
    "    turkana_theme +\n",
    "    theme(\n",
    "        legend.position='none',\n",
    "        legend.title=element_blank()\n",
    "    )\n",
    "\n",
    "turkana_save(snakemake@output[[1]], fig, asp=1.619)"
   ]
  },
  {
   "cell_type": "code",
   "execution_count": null,
   "id": "b3916339",
   "metadata": {},
   "outputs": [],
   "source": []
  }
 ],
 "metadata": {
  "kernelspec": {
   "display_name": "R",
   "language": "R",
   "name": "ir"
  },
  "language_info": {
   "codemirror_mode": "r",
   "file_extension": ".r",
   "mimetype": "text/x-r-source",
   "name": "R",
   "pygments_lexer": "r",
   "version": "4.1.0"
  }
 },
 "nbformat": 4,
 "nbformat_minor": 5
}
