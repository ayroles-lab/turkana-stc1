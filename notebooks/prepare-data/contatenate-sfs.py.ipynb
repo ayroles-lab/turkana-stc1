{
 "cells": [
  {
   "cell_type": "code",
   "execution_count": 31,
   "id": "9705db61",
   "metadata": {},
   "outputs": [],
   "source": [
    "from collections import Counter\n",
    "\n",
    "import pandas as pd"
   ]
  },
  {
   "cell_type": "code",
   "execution_count": 29,
   "id": "0a6f2d9d",
   "metadata": {},
   "outputs": [],
   "source": [
    "counts = Counter()\n",
    "\n",
    "for file in snakemake.input:\n",
    "    with open(file) as f:\n",
    "        first_line = f.readline().strip()\n",
    "        assert \" \" not in first_line\n",
    "        for line in f:\n",
    "            num_sites, num_derived = [int(i) for i in line.strip().split()]\n",
    "            counts.update({num_derived: num_sites})"
   ]
  },
  {
   "cell_type": "code",
   "execution_count": 37,
   "id": "6ed6f024",
   "metadata": {},
   "outputs": [],
   "source": [
    "counts_df = (\n",
    "    pd.DataFrame\n",
    "    .from_records(((key, value) for key, value in counts.items()), columns=['num_alternate', 'num_sites'])\n",
    "    .set_index('num_alternate')\n",
    ")"
   ]
  },
  {
   "cell_type": "code",
   "execution_count": 40,
   "id": "d7b1dc24",
   "metadata": {},
   "outputs": [],
   "source": [
    "counts_df.to_csv(snakemake.output[0], index=True, sep='\\t')"
   ]
  },
  {
   "cell_type": "code",
   "execution_count": null,
   "id": "7710eb01",
   "metadata": {},
   "outputs": [],
   "source": []
  }
 ],
 "metadata": {
  "kernelspec": {
   "display_name": "Python 3",
   "language": "python",
   "name": "python3"
  },
  "language_info": {
   "codemirror_mode": {
    "name": "ipython",
    "version": 3
   },
   "file_extension": ".py",
   "mimetype": "text/x-python",
   "name": "python",
   "nbconvert_exporter": "python",
   "pygments_lexer": "ipython3",
   "version": "3.9.5"
  }
 },
 "nbformat": 4,
 "nbformat_minor": 5
}
