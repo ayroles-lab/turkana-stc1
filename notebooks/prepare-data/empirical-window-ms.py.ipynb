{
 "cells": [
  {
   "cell_type": "code",
   "execution_count": 28,
   "id": "a28fb39a",
   "metadata": {},
   "outputs": [],
   "source": [
    "import numpy as np\n",
    "import allel"
   ]
  },
  {
   "cell_type": "code",
   "execution_count": 74,
   "id": "97e1e9b4",
   "metadata": {},
   "outputs": [],
   "source": []
  },
  {
   "cell_type": "code",
   "execution_count": 75,
   "id": "7b13d2fb",
   "metadata": {},
   "outputs": [],
   "source": [
    "from utils.convert import vcf_to_ms\n",
    "vcf_to_ms(snakemake.input[\"data\"], snakemake.output[\"ms\"])"
   ]
  },
  {
   "cell_type": "code",
   "execution_count": null,
   "id": "1cd58460",
   "metadata": {},
   "outputs": [],
   "source": []
  }
 ],
 "metadata": {
  "kernelspec": {
   "display_name": "Python 3 (ipykernel)",
   "language": "python",
   "name": "python3"
  },
  "language_info": {
   "codemirror_mode": {
    "name": "ipython",
    "version": 3
   },
   "file_extension": ".py",
   "mimetype": "text/x-python",
   "name": "python",
   "nbconvert_exporter": "python",
   "pygments_lexer": "ipython3",
   "version": "3.9.10"
  }
 },
 "nbformat": 4,
 "nbformat_minor": 5
}
