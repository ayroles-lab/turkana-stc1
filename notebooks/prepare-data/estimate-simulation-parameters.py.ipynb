{
 "cells": [
  {
   "cell_type": "code",
   "execution_count": 2,
   "id": "571e868c",
   "metadata": {},
   "outputs": [],
   "source": [
    "import numpy as np\n",
    "import pandas as pd\n",
    "\n",
    "from utils.prepare_data import read_data"
   ]
  },
  {
   "cell_type": "markdown",
   "id": "61717b0e",
   "metadata": {},
   "source": [
    "First, convert this SFS into a folded SFS, since we don't have the ancestral and derived states."
   ]
  },
  {
   "cell_type": "code",
   "execution_count": 3,
   "id": "fde182ad",
   "metadata": {},
   "outputs": [],
   "source": [
    "N = snakemake.params[\"sample_size\"]"
   ]
  },
  {
   "cell_type": "code",
   "execution_count": 4,
   "id": "a75c4b27",
   "metadata": {},
   "outputs": [],
   "source": [
    "sfs = read_data(snakemake.input[0])\n",
    "sfs = (\n",
    "    sfs\n",
    "    .assign(num_minor=np.minimum(sfs.num_alternate, N - sfs.num_alternate))\n",
    "    .groupby(\"num_minor\")\n",
    "    .sum(\"num_sites\")\n",
    "    .drop(\"num_alternate\", axis='columns')\n",
    "    .reset_index()\n",
    ")\n",
    "sfs = sfs.loc[sfs.num_minor != 0]"
   ]
  },
  {
   "cell_type": "markdown",
   "id": "64d8c8aa",
   "metadata": {},
   "source": [
    "Get the heterozygosity of a site with $p$ minor allele count:"
   ]
  },
  {
   "cell_type": "code",
   "execution_count": 8,
   "id": "8359edc2",
   "metadata": {},
   "outputs": [],
   "source": [
    "sfs = sfs.assign(\n",
    "    heteroz = (2*sfs.num_minor*(N - sfs.num_minor))/(N*(N - 1)),\n",
    ")\n",
    "sfs = sfs.assign(total_heteroz = sfs.heteroz*sfs.num_sites)"
   ]
  },
  {
   "cell_type": "code",
   "execution_count": 10,
   "id": "ac9eae57",
   "metadata": {},
   "outputs": [],
   "source": [
    "pi = sfs.total_heteroz.sum()/snakemake.params[\"total_genome_size\"]"
   ]
  },
  {
   "cell_type": "code",
   "execution_count": 11,
   "id": "92224cfb",
   "metadata": {},
   "outputs": [],
   "source": [
    "pi"
   ]
  },
  {
   "cell_type": "code",
   "execution_count": 13,
   "id": "f6d9f792",
   "metadata": {},
   "outputs": [],
   "source": [
    "mu = pi/(4*snakemake.params[\"reference_ne\"])"
   ]
  },
  {
   "cell_type": "code",
   "execution_count": 15,
   "id": "41df2955",
   "metadata": {},
   "outputs": [],
   "source": [
    "rec = mu/snakemake.params[\"mu_over_r\"]"
   ]
  },
  {
   "cell_type": "code",
   "execution_count": 18,
   "id": "1a680e19",
   "metadata": {},
   "outputs": [],
   "source": [
    "with open(snakemake.output[0], 'w') as f:\n",
    "    f.write(f\"Estimated pi: {pi}\\n\")\n",
    "    f.write(f\"Estimated mutation rate: mu={mu}\\n\")\n",
    "    f.write(f\"Implied recombination rate, with mu/r={snakemake.params['mu_over_r']}: r={rec}\")"
   ]
  },
  {
   "cell_type": "code",
   "execution_count": null,
   "id": "63d65846",
   "metadata": {},
   "outputs": [],
   "source": []
  }
 ],
 "metadata": {
  "kernelspec": {
   "display_name": "Python 3",
   "language": "python",
   "name": "python3"
  },
  "language_info": {
   "codemirror_mode": {
    "name": "ipython",
    "version": 3
   },
   "file_extension": ".py",
   "mimetype": "text/x-python",
   "name": "python",
   "nbconvert_exporter": "python",
   "pygments_lexer": "ipython3",
   "version": "3.9.5"
  }
 },
 "nbformat": 4,
 "nbformat_minor": 5
}
