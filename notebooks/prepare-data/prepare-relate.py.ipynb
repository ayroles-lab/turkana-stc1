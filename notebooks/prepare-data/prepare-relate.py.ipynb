{
 "cells": [
  {
   "cell_type": "code",
   "execution_count": 3,
   "id": "8f25acca",
   "metadata": {},
   "outputs": [],
   "source": [
    "import pandas as pd"
   ]
  },
  {
   "cell_type": "markdown",
   "id": "5ddcaa3d",
   "metadata": {},
   "outputs": [],
   "source": [
    "### Poplabels file"
   ]
  },
  {
   "cell_type": "code",
   "execution_count": 4,
   "id": "a7fa930a",
   "metadata": {},
   "outputs": [],
   "source": [
    "sample = pd.read_table(snakemake.input['sample']).iloc[1:]"
   ]
  },
  {
   "cell_type": "code",
   "execution_count": 5,
   "id": "ac778118",
   "metadata": {},
   "outputs": [],
   "source": [
    "poplabels = pd.DataFrame({\n",
    "    'sample': sample.ID_1,\n",
    "    'population': 'Turkana',\n",
    "    'group': 'Turkana',\n",
    "    'sex': 'NA'\n",
    "})"
   ]
  },
  {
   "cell_type": "code",
   "execution_count": 6,
   "id": "10421b4b",
   "metadata": {},
   "outputs": [],
   "source": [
    "poplabels.to_csv(snakemake.output['poplabels'], sep=' ', index=False)"
   ]
  },
  {
   "cell_type": "markdown",
   "id": "1bac4fb6",
   "metadata": {},
   "outputs": [],
   "source": [
    "### Sites of interest"
   ]
  },
  {
   "cell_type": "code",
   "execution_count": 13,
   "id": "86ec48ac",
   "metadata": {},
   "outputs": [],
   "source": [
    "with open(snakemake.input['haps']) as f:\n",
    "    pos = [int(line.strip().split()[2]) for line in f]"
   ]
  },
  {
   "cell_type": "code",
   "execution_count": 17,
   "id": "24e706c9",
   "metadata": {},
   "outputs": [],
   "source": [
    "num_sites = snakemake.params['num_sites_of_interest']\n",
    "to_discard = (len(pos) - num_sites)//2\n",
    "of_interest = pos[to_discard:(num_sites + to_discard)]"
   ]
  },
  {
   "cell_type": "code",
   "execution_count": 24,
   "id": "565e7d24",
   "metadata": {},
   "outputs": [],
   "source": [
    "with open(snakemake.output['sites_of_interest'], \"w\") as f:\n",
    "    f.write('\\n'.join(str(i) for i in of_interest))"
   ]
  },
  {
   "cell_type": "code",
   "execution_count": null,
   "id": "cba711f3",
   "metadata": {},
   "outputs": [],
   "source": []
  }
 ],
 "metadata": {
  "kernelspec": {
   "display_name": "Python 3 (ipykernel)",
   "language": "python",
   "name": "python3"
  },
  "language_info": {
   "codemirror_mode": {
    "name": "ipython",
    "version": 3
   },
   "file_extension": ".py",
   "mimetype": "text/x-python",
   "name": "python",
   "nbconvert_exporter": "python",
   "pygments_lexer": "ipython3",
   "version": "3.9.10"
  }
 },
 "nbformat": 4,
 "nbformat_minor": 5
}
