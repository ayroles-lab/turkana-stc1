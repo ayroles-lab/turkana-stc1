{
 "cells": [
  {
   "cell_type": "code",
   "execution_count": 6,
   "id": "8f25acca",
   "metadata": {},
   "outputs": [],
   "source": [
    "import numpy as np\n",
    "import pandas as pd"
   ]
  },
  {
   "cell_type": "markdown",
   "id": "5ddcaa3d",
   "metadata": {},
   "source": [
    "### Poplabels file"
   ]
  },
  {
   "cell_type": "code",
   "execution_count": 3,
   "id": "a7fa930a",
   "metadata": {},
   "outputs": [],
   "source": [
    "sample = pd.read_table(snakemake.input['sample']).iloc[1:]"
   ]
  },
  {
   "cell_type": "code",
   "execution_count": 4,
   "id": "ac778118",
   "metadata": {},
   "outputs": [],
   "source": [
    "poplabels = pd.DataFrame({\n",
    "    'sample': sample.ID_1,\n",
    "    'population': 'Turkana',\n",
    "    'group': 'Turkana',\n",
    "    'sex': 'NA'\n",
    "})"
   ]
  },
  {
   "cell_type": "code",
   "execution_count": 5,
   "id": "10421b4b",
   "metadata": {},
   "outputs": [],
   "source": [
    "poplabels.to_csv(snakemake.output['poplabels'], sep=' ', index=False)"
   ]
  },
  {
   "cell_type": "code",
   "execution_count": null,
   "id": "cba711f3",
   "metadata": {},
   "outputs": [],
   "source": []
  }
 ],
 "metadata": {
  "kernelspec": {
   "display_name": "Python 3",
   "language": "python",
   "name": "python3"
  },
  "language_info": {
   "codemirror_mode": {
    "name": "ipython",
    "version": 3
   },
   "file_extension": ".py",
   "mimetype": "text/x-python",
   "name": "python",
   "nbconvert_exporter": "python",
   "pygments_lexer": "ipython3",
   "version": "3.9.5"
  }
 },
 "nbformat": 4,
 "nbformat_minor": 5
}
