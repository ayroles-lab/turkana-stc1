{
 "cells": [
  {
   "cell_type": "code",
   "execution_count": 2,
   "id": "8f4fca27",
   "metadata": {},
   "outputs": [],
   "source": [
    "import tarfile\n",
    "from pathlib import Path\n",
    "from io import BytesIO\n",
    "import re\n",
    "\n",
    "import numpy as np\n",
    "import pandas as pd\n",
    "import tqdm.notebook"
   ]
  },
  {
   "cell_type": "markdown",
   "id": "73a1aa2f",
   "metadata": {},
   "source": [
    "### Empirical signatures"
   ]
  },
  {
   "cell_type": "code",
   "execution_count": 3,
   "id": "5ddcbd54",
   "metadata": {},
   "outputs": [],
   "source": [
    "sweeps = dict()\n",
    "with tarfile.open(snakemake.input[\"empirical\"]) as tar:\n",
    "    members = tar.getmembers()\n",
    "    for member in members:\n",
    "        if (member.isdir()) or ('sweep' not in member.name):\n",
    "            continue\n",
    "        array_file = BytesIO()\n",
    "        array_file.write(tar.extractfile(member).read())\n",
    "        array_file.seek(0)\n",
    "        sweeps[Path(member.name).stem] = np.load(array_file)"
   ]
  },
  {
   "cell_type": "markdown",
   "id": "b40ff6a9",
   "metadata": {},
   "source": [
    "### Simulated sweeps averages"
   ]
  },
  {
   "cell_type": "code",
   "execution_count": 51,
   "id": "f889840b",
   "metadata": {},
   "outputs": [],
   "source": [
    "params = pd.read_table(snakemake.input[\"parameters\"])\n",
    "params = params.loc[params.sweep_mode == \"sgv (true)\", ['uuid', 'log_selection_coefficient']]\n",
    "params = params.assign(selbin=pd.cut(params.log_selection_coefficient, bins=snakemake.params[\"num_sel_bins\"]))\n",
    "params = params.assign(\n",
    "    lower = [round(10**x.left, 2) for x in params.selbin],\n",
    "    upper = [round(10**x.right, 2) for x in params.selbin]\n",
    ")\n",
    "params = params.assign(\n",
    "    selbin_str = [f\"{i} < s < {j}\" for i, j in zip(params.lower, params.upper)]\n",
    ")\n",
    "params = params.set_index('uuid')"
   ]
  },
  {
   "cell_type": "code",
   "execution_count": 52,
   "id": "0621bc29",
   "metadata": {},
   "outputs": [],
   "source": [
    "params"
   ]
  },
  {
   "cell_type": "code",
   "execution_count": 56,
   "id": "2c1046dc",
   "metadata": {},
   "outputs": [],
   "source": [
    "simulated = {\n",
    "    key: list() for key in params.selbin_str.unique()\n",
    "}"
   ]
  },
  {
   "cell_type": "code",
   "execution_count": 57,
   "id": "1146e759",
   "metadata": {},
   "outputs": [],
   "source": [
    "with tarfile.open(snakemake.input[\"simulated\"]) as tar:\n",
    "    members = tar.getmembers()\n",
    "    for member in members:\n",
    "        name = member.name.split('.')[0]\n",
    "        if (member.isdir()) or (name not in params.index):\n",
    "            continue\n",
    "        array_file = BytesIO()\n",
    "        array_file.write(tar.extractfile(member).read())\n",
    "        array_file.seek(0)\n",
    "        x = np.load(array_file)\n",
    "        selbin = params.selbin_str.loc[name]\n",
    "        simulated[selbin].append(x)"
   ]
  },
  {
   "cell_type": "code",
   "execution_count": 58,
   "id": "60e5a9a4",
   "metadata": {},
   "outputs": [],
   "source": [
    "for key, arrays in simulated.items():\n",
    "    mean = np.stack(arrays).mean(axis=0)\n",
    "    sweeps[key] = mean"
   ]
  },
  {
   "cell_type": "markdown",
   "id": "da36b28c",
   "metadata": {},
   "source": [
    "### Turn signals into tidy table"
   ]
  },
  {
   "cell_type": "code",
   "execution_count": 61,
   "id": "37e1503c",
   "metadata": {},
   "outputs": [],
   "source": [
    "from utils.project_parameters import summary_statistic_order, smallest_window, locus_size, data_dimension\n",
    "from utils.prepare_data import save_data\n",
    "from utils.feature_calculation import get_windows\n",
    "\n",
    "window_sizes, center_pos_dict = get_windows(\n",
    "    locus_size,\n",
    "    data_dimension,\n",
    "    start_pos=1,\n",
    "    smallest_window=smallest_window,\n",
    ")\n",
    "window_sizes = list(reversed(window_sizes)) # Due to the way Numpy assigns dimension labels"
   ]
  },
  {
   "cell_type": "code",
   "execution_count": 66,
   "id": "acedf97b",
   "metadata": {},
   "outputs": [],
   "source": [
    "def tidify(signal, name, s=None):\n",
    "    coords, values = zip(*np.ndenumerate(signal))\n",
    "    df = (\n",
    "        pd\n",
    "        .DataFrame(coords, columns=['window_size', 'position', 'feature'])\n",
    "        .assign(value=values)\n",
    "    )\n",
    "    df = df.assign(\n",
    "        window_size=[window_sizes[i] for i in df.window_size],\n",
    "        feature=[summary_statistic_order[i] for i in df.feature],\n",
    "        dataset=name\n",
    "    )\n",
    "    return df"
   ]
  },
  {
   "cell_type": "code",
   "execution_count": 67,
   "id": "8dfe3244",
   "metadata": {},
   "outputs": [],
   "source": [
    "final_dataframes = []\n",
    "final_dataframes.extend([tidify(data, name) for name, data in sweeps.items()])\n",
    "result = pd.concat(final_dataframes)"
   ]
  },
  {
   "cell_type": "code",
   "execution_count": 68,
   "id": "b51f925a",
   "metadata": {},
   "outputs": [],
   "source": [
    "save_data(result, snakemake.output[0])"
   ]
  },
  {
   "cell_type": "code",
   "execution_count": null,
   "id": "4c96d9a8",
   "metadata": {},
   "outputs": [],
   "source": []
  }
 ],
 "metadata": {
  "kernelspec": {
   "display_name": "Python 3",
   "language": "python",
   "name": "python3"
  },
  "language_info": {
   "codemirror_mode": {
    "name": "ipython",
    "version": 3
   },
   "file_extension": ".py",
   "mimetype": "text/x-python",
   "name": "python",
   "nbconvert_exporter": "python",
   "pygments_lexer": "ipython3",
   "version": "3.9.5"
  }
 },
 "nbformat": 4,
 "nbformat_minor": 5
}
