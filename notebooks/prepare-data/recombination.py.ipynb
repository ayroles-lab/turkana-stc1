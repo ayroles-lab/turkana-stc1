{
 "cells": [
  {
   "cell_type": "code",
   "execution_count": 28,
   "id": "ea52b1a1",
   "metadata": {},
   "outputs": [],
   "source": [
    "import pandas as pd\n",
    "\n",
    "from utils.prepare_data import save_data"
   ]
  },
  {
   "cell_type": "code",
   "execution_count": 35,
   "id": "c68b0255",
   "metadata": {},
   "outputs": [],
   "source": [
    "start, end = snakemake.config[\"sweep_region_start\"], snakemake.config[\"sweep_region_end\"]"
   ]
  },
  {
   "cell_type": "code",
   "execution_count": 38,
   "id": "7c55bdae",
   "metadata": {},
   "outputs": [],
   "source": [
    "maps = pd.read_table(snakemake.input[0], sep=\" \")\n",
    "region = maps.loc[maps.Physical_Pos.between(start, end)]\n",
    "rates = (region.iloc[-1] - region.iloc[0])/(end - start)\n",
    "rates = rates.drop(\"Physical_Pos\")\n",
    "rates[\"start\"] = start\n",
    "rates[\"end\"] = end\n",
    "rates.to_csv(snakemake.output[\"recombination_at_sweep\"], index=True, sep='\\t', header=False)"
   ]
  },
  {
   "cell_type": "code",
   "execution_count": 26,
   "id": "dcce325f",
   "metadata": {},
   "outputs": [],
   "source": [
    "ws = 1_000_000\n",
    "increment = 100_000\n",
    "start = 1\n",
    "end = ws\n",
    "\n",
    "result = []\n",
    "\n",
    "while end < maps.Physical_Pos.max():\n",
    "    region = maps.loc[maps.Physical_Pos.between(start, end)]\n",
    "    try:\n",
    "        rates = (region.iloc[-1] - region.iloc[0])/(end - start)\n",
    "        rates[\"start\"] = start\n",
    "        rates[\"end\"] = end\n",
    "        result.append(rates)\n",
    "    except:\n",
    "        pass\n",
    "    start = start + ws\n",
    "    end = end + ws"
   ]
  },
  {
   "cell_type": "code",
   "execution_count": 29,
   "id": "c5b8de7f",
   "metadata": {},
   "outputs": [],
   "source": [
    "df = pd.DataFrame.from_records(result)"
   ]
  },
  {
   "cell_type": "code",
   "execution_count": null,
   "id": "c1398857",
   "metadata": {},
   "outputs": [],
   "source": [
    "save_data(df, snakemake.output[\"chromosome_recombinations\"])"
   ]
  }
 ],
 "metadata": {
  "kernelspec": {
   "display_name": "Python 3",
   "language": "python",
   "name": "python3"
  },
  "language_info": {
   "codemirror_mode": {
    "name": "ipython",
    "version": 3
   },
   "file_extension": ".py",
   "mimetype": "text/x-python",
   "name": "python",
   "nbconvert_exporter": "python",
   "pygments_lexer": "ipython3",
   "version": "3.9.5"
  }
 },
 "nbformat": 4,
 "nbformat_minor": 5
}
