{
 "cells": [
  {
   "cell_type": "code",
   "execution_count": 2,
   "id": "ea52b1a1",
   "metadata": {},
   "outputs": [],
   "source": [
    "import pandas as pd\n",
    "\n",
    "from utils.prepare_data import save_data"
   ]
  },
  {
   "cell_type": "code",
   "execution_count": 3,
   "id": "c68b0255",
   "metadata": {},
   "outputs": [],
   "source": [
    "start, end = snakemake.config[\"sweep_region_start\"], snakemake.config[\"sweep_region_end\"]"
   ]
  },
  {
   "cell_type": "code",
   "execution_count": 4,
   "id": "7c4404b1",
   "metadata": {},
   "outputs": [],
   "source": [
    "maps = pd.read_table(snakemake.input[0], sep=\" \").set_index('Physical_Pos')\n",
    "# To convert from centiMorgan to # of recombination events:\n",
    "maps = maps/100\n",
    "region = maps.loc[maps.index.to_series().between(start, end)]"
   ]
  },
  {
   "cell_type": "markdown",
   "id": "eed5e354",
   "metadata": {},
   "source": [
    "### Rates for the sweep region"
   ]
  },
  {
   "cell_type": "code",
   "execution_count": 6,
   "id": "7c55bdae",
   "metadata": {},
   "outputs": [],
   "source": [
    "rates = (region.iloc[-1] - region.iloc[0])/(end - start)\n",
    "rates[\"start\"] = start\n",
    "rates[\"end\"] = end\n",
    "rates.to_csv(snakemake.output[\"recombination_at_sweep\"], index=True, sep='\\t', header=False)"
   ]
  },
  {
   "cell_type": "markdown",
   "id": "bea75a82",
   "metadata": {},
   "source": [
    "### Rates across the chromosome"
   ]
  },
  {
   "cell_type": "code",
   "execution_count": 27,
   "id": "dcce325f",
   "metadata": {},
   "outputs": [],
   "source": [
    "ws = 1_000_000\n",
    "increment = 100_000\n",
    "start = 1\n",
    "end = ws\n",
    "\n",
    "result = []\n",
    "\n",
    "while end < maps.index.to_series().max():\n",
    "    region = maps.loc[maps.index.to_series().between(start, end)]\n",
    "    try:\n",
    "        rates = (region.iloc[-1] - region.iloc[0])/(end - start)\n",
    "        rates[\"start\"] = start\n",
    "        rates[\"end\"] = end\n",
    "        result.append(rates)\n",
    "    except:\n",
    "        pass\n",
    "    start = start + ws\n",
    "    end = end + ws\n",
    "    \n",
    "df_large = pd.DataFrame.from_records(result).assign(window_size=1000000)"
   ]
  },
  {
   "cell_type": "code",
   "execution_count": 28,
   "id": "c5b8de7f",
   "metadata": {},
   "outputs": [],
   "source": [
    "ws = 10_000\n",
    "increment = 1_000\n",
    "start = 1\n",
    "end = ws\n",
    "\n",
    "result = []\n",
    "\n",
    "while end < maps.index.to_series().max():\n",
    "    region = maps.loc[maps.index.to_series().between(start, end)]\n",
    "    try:\n",
    "        rates = (region.iloc[-1] - region.iloc[0])/(end - start)\n",
    "        rates[\"start\"] = start\n",
    "        rates[\"end\"] = end\n",
    "        result.append(rates)\n",
    "    except:\n",
    "        pass\n",
    "    start = start + ws\n",
    "    end = end + ws\n",
    "    \n",
    "df_fine = pd.DataFrame.from_records(result).assign(window_size=10000)"
   ]
  },
  {
   "cell_type": "code",
   "execution_count": 30,
   "id": "e2daec44",
   "metadata": {},
   "outputs": [],
   "source": [
    "df = pd.concat([df_large, df_fine])"
   ]
  },
  {
   "cell_type": "code",
   "execution_count": 31,
   "id": "c1398857",
   "metadata": {},
   "outputs": [],
   "source": [
    "save_data(df, snakemake.output[\"chromosome_recombinations\"])"
   ]
  },
  {
   "cell_type": "markdown",
   "id": "224f8a6b",
   "metadata": {},
   "source": [
    "### Recombination map for Relate\n",
    "\n",
    "Format described in https://myersgroup.github.io/relate/input_data.html#.map"
   ]
  },
  {
   "cell_type": "code",
   "execution_count": 103,
   "id": "80226105",
   "metadata": {},
   "outputs": [],
   "source": [
    "maps = pd.read_table(snakemake.input[0], sep=\" \").set_index('Physical_Pos')"
   ]
  },
  {
   "cell_type": "code",
   "execution_count": 108,
   "id": "9d46f531",
   "metadata": {},
   "outputs": [],
   "source": [
    "maps.columns"
   ]
  },
  {
   "cell_type": "code",
   "execution_count": 114,
   "id": "2418a143",
   "metadata": {},
   "outputs": [],
   "source": [
    "# What map to use?\n",
    "centimorgans = maps.mean(axis='columns')\n",
    "# centimorgans = maps['AA_Map']"
   ]
  },
  {
   "cell_type": "code",
   "execution_count": 115,
   "id": "c73aaf82",
   "metadata": {},
   "outputs": [],
   "source": [
    "cM_diff = pd.Series(\n",
    "    centimorgans[1:].values - centimorgans[:-1].values,\n",
    "    index=maps.index[:-1]\n",
    ")\n",
    "\n",
    "pos_diff = pd.Series(\n",
    "    maps.index[1:].values - maps.index[:-1].values,\n",
    "    index=maps.index[:-1]\n",
    ")\n",
    "\n",
    "rates = (cM_diff/pos_diff)*1e6"
   ]
  },
  {
   "cell_type": "code",
   "execution_count": 116,
   "id": "9c0f75f0",
   "metadata": {},
   "outputs": [],
   "source": [
    "# Put columns in the right order, save map\n",
    "relate_map = pd.DataFrame({\n",
    "    'cM/Mb': rates,\n",
    "    'cM': centimorgans[:-1]\n",
    "})\n",
    "relate_map.index.name = 'position'"
   ]
  },
  {
   "cell_type": "code",
   "execution_count": 117,
   "id": "a21c1c77",
   "metadata": {},
   "outputs": [],
   "source": [
    "relate_map"
   ]
  },
  {
   "cell_type": "code",
   "execution_count": 118,
   "id": "124318dd",
   "metadata": {},
   "outputs": [],
   "source": [
    "relate_map.to_csv(snakemake.output['relate'], sep=' ', index=True)"
   ]
  },
  {
   "cell_type": "code",
   "execution_count": null,
   "id": "4fffdd07",
   "metadata": {},
   "outputs": [],
   "source": []
  }
 ],
 "metadata": {
  "kernelspec": {
   "display_name": "Python 3",
   "language": "python",
   "name": "python3"
  },
  "language_info": {
   "codemirror_mode": {
    "name": "ipython",
    "version": 3
   },
   "file_extension": ".py",
   "mimetype": "text/x-python",
   "name": "python",
   "nbconvert_exporter": "python",
   "pygments_lexer": "ipython3",
   "version": "3.9.5"
  }
 },
 "nbformat": 4,
 "nbformat_minor": 5
}
