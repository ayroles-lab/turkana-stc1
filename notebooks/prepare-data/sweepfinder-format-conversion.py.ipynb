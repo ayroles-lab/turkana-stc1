{
 "cells": [
  {
   "cell_type": "code",
   "execution_count": 10,
   "id": "2913bcde",
   "metadata": {},
   "outputs": [],
   "source": [
    "import pandas as pd\n",
    "\n",
    "import allel\n",
    "\n",
    "from utils.prepare_data import read_data, save_data"
   ]
  },
  {
   "cell_type": "code",
   "execution_count": 11,
   "id": "083e12fb",
   "metadata": {},
   "outputs": [],
   "source": [
    "data = allel.read_vcf(snakemake.input[\"vcf\"])\n",
    "sample_size = len(data[\"samples\"])*2"
   ]
  },
  {
   "cell_type": "code",
   "execution_count": 12,
   "id": "b87de850",
   "metadata": {},
   "outputs": [],
   "source": [
    "records = list()\n",
    "\n",
    "for position, haps in zip(data['variants/POS'], data['calldata/GT']):\n",
    "    genotypes = haps.ravel()\n",
    "    records.append((position, genotypes.sum(), len(genotypes), 1))\n",
    "    \n",
    "sf_data = pd.DataFrame.from_records(records, columns=['position', 'x', 'n', 'folded'])\n",
    "save_data(sf_data, snakemake.output[\"data\"])"
   ]
  },
  {
   "cell_type": "code",
   "execution_count": 13,
   "id": "1d61b453",
   "metadata": {},
   "outputs": [],
   "source": [
    "sfs = read_data(snakemake.input[\"sfs\"])\n",
    "sfs.loc[0, \"num_sites\"] = 0\n",
    "sfs = sfs.loc[sfs.num_alternate < sample_size]\n",
    "sfs.num_sites = sfs.num_sites/sfs.num_sites.sum()\n",
    "sfs.to_csv(snakemake.output[\"sfs\"], header=False, index=False, sep='\\t')"
   ]
  },
  {
   "cell_type": "code",
   "execution_count": null,
   "id": "caabd77b",
   "metadata": {},
   "outputs": [],
   "source": []
  }
 ],
 "metadata": {
  "kernelspec": {
   "display_name": "Python 3",
   "language": "python",
   "name": "python3"
  },
  "language_info": {
   "codemirror_mode": {
    "name": "ipython",
    "version": 3
   },
   "file_extension": ".py",
   "mimetype": "text/x-python",
   "name": "python",
   "nbconvert_exporter": "python",
   "pygments_lexer": "ipython3",
   "version": "3.9.5"
  }
 },
 "nbformat": 4,
 "nbformat_minor": 5
}
